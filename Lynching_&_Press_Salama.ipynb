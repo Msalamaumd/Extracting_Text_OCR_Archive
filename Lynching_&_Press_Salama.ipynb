{
  "nbformat": 4,
  "nbformat_minor": 0,
  "metadata": {
    "colab": {
      "provenance": [],
      "include_colab_link": true
    },
    "kernelspec": {
      "name": "python3",
      "display_name": "Python 3"
    },
    "language_info": {
      "name": "python"
    }
  },
  "cells": [
    {
      "cell_type": "markdown",
      "metadata": {
        "id": "view-in-github",
        "colab_type": "text"
      },
      "source": [
        "<a href=\"https://colab.research.google.com/github/Msalamaumd/Extracting_Text_OCR_Archive/blob/main/Lynching_%26_Press_Salama.ipynb\" target=\"_parent\"><img src=\"https://colab.research.google.com/assets/colab-badge.svg\" alt=\"Open In Colab\"/></a>"
      ]
    },
    {
      "cell_type": "code",
      "source": [
        "#step1_extraction(keyword)"
      ],
      "metadata": {
        "id": "bXJsDEmh7QQv"
      },
      "execution_count": null,
      "outputs": []
    },
    {
      "cell_type": "code",
      "source": [
        "from google.colab import drive\n",
        "drive.mount('/content/drive')"
      ],
      "metadata": {
        "colab": {
          "base_uri": "https://localhost:8080/"
        },
        "id": "N7gHkCTJIn6_",
        "outputId": "be78d50c-dd28-44c4-c0e0-2f8e807e51a6"
      },
      "execution_count": null,
      "outputs": [
        {
          "output_type": "stream",
          "name": "stdout",
          "text": [
            "Drive already mounted at /content/drive; to attempt to forcibly remount, call drive.mount(\"/content/drive\", force_remount=True).\n"
          ]
        }
      ]
    },
    {
      "cell_type": "code",
      "source": [
        "import pandas as pd"
      ],
      "metadata": {
        "id": "NeHvRSVRj0Ve"
      },
      "execution_count": null,
      "outputs": []
    },
    {
      "cell_type": "code",
      "source": [
        "df_1 = pd.read_csv('/content/articles_oct_19.csv')"
      ],
      "metadata": {
        "id": "judzPPJJj-cd"
      },
      "execution_count": null,
      "outputs": []
    },
    {
      "cell_type": "code",
      "source": [
        "def filter_rows_by_keywords (file_path, sentence, keywords):\n",
        "    df_1 = pd.read_csv(file_path)\n",
        "\n",
        "    condition = df_1[sentence].str.contains('|'.join(keywords), case=False, na=False)\n",
        "\n",
        "    filtered_df_1 = df_1[condition]\n",
        "\n",
        "    return filtered_df_1"
      ],
      "metadata": {
        "id": "wJl0--10lnla"
      },
      "execution_count": null,
      "outputs": []
    },
    {
      "cell_type": "code",
      "source": [
        "file_path = ('/content/articles_oct_19.csv')"
      ],
      "metadata": {
        "id": "2vsGduHwoJpf"
      },
      "execution_count": null,
      "outputs": []
    },
    {
      "cell_type": "code",
      "source": [
        "sentence = 'sentence'"
      ],
      "metadata": {
        "id": "uTqTWlH4oWpW"
      },
      "execution_count": null,
      "outputs": []
    },
    {
      "cell_type": "code",
      "source": [
        "keywords = ['sheriff', 'Sheriff', 'Sheriffs','SHERIFF', 'police', 'Police', 'POLICE',  'policeman', 'Policeman', 'POLICEMAN', 'policemen', 'Policemen', 'POLICEMEN', 'officer', 'officers', 'Officer', 'OFFICER', 'OFFICERS', 'lawman', 'lawmen','LAWMAN', 'LAWMEN']"
      ],
      "metadata": {
        "id": "hNaL1QZCmQY9"
      },
      "execution_count": null,
      "outputs": []
    },
    {
      "cell_type": "code",
      "source": [
        "filtered_rows = filter_rows_by_keywords(file_path, sentence, keywords)"
      ],
      "metadata": {
        "id": "WV6PQxIen3kZ"
      },
      "execution_count": null,
      "outputs": []
    },
    {
      "cell_type": "code",
      "source": [
        "output_file_path_1 = '/content/law_enforcement_articles_1.csv'\n",
        "filtered_rows.to_csv(output_file_path_1, index=False)\n",
        "\n",
        "print(f\"Filtered data saved to {output_file_path_1}\")"
      ],
      "metadata": {
        "colab": {
          "base_uri": "https://localhost:8080/"
        },
        "id": "JXMfjMoBodEk",
        "outputId": "7645e003-b88d-4e14-f42e-4e0b2c246d70"
      },
      "execution_count": null,
      "outputs": [
        {
          "output_type": "stream",
          "name": "stdout",
          "text": [
            "Filtered data saved to /content/law_enforcement_articles_1.csv\n"
          ]
        }
      ]
    },
    {
      "cell_type": "code",
      "source": [
        "#step2_ extraction(filename) [ now I am having all related stories together but still splitted]"
      ],
      "metadata": {
        "id": "EArrC52r7L3v"
      },
      "execution_count": null,
      "outputs": []
    },
    {
      "cell_type": "code",
      "source": [
        "law_enforcement_df = pd.read_csv('/content/law_enforcement_articles_1.csv')"
      ],
      "metadata": {
        "id": "Zzb0JaLXpm-_"
      },
      "execution_count": null,
      "outputs": []
    },
    {
      "cell_type": "code",
      "source": [
        "law_enforcement_filenames = law_enforcement_df['filename'].unique()"
      ],
      "metadata": {
        "id": "rACNBLL7pzB6"
      },
      "execution_count": null,
      "outputs": []
    },
    {
      "cell_type": "code",
      "source": [
        "original_articles_df = pd.read_csv('/content/articles_oct_19.csv')"
      ],
      "metadata": {
        "id": "iJLoAlM8p_DD"
      },
      "execution_count": null,
      "outputs": []
    },
    {
      "cell_type": "code",
      "source": [
        "matching_articles_df = original_articles_df[original_articles_df['filename'].isin(law_enforcement_filenames)]"
      ],
      "metadata": {
        "id": "_Pv-c4BEqEZV"
      },
      "execution_count": null,
      "outputs": []
    },
    {
      "cell_type": "code",
      "source": [
        "output_file_path_2 = '/content/full-lawenforcement_2.csv'\n",
        "matching_articles_df.to_csv(output_file_path_2, index=False)\n",
        "\n",
        "print(f\"Matching articles saved to {output_file_path_2}\")\n"
      ],
      "metadata": {
        "colab": {
          "base_uri": "https://localhost:8080/"
        },
        "id": "Uytsly_mqJEL",
        "outputId": "02541661-4c77-4abd-fcf5-0e2e946ecc17"
      },
      "execution_count": null,
      "outputs": [
        {
          "output_type": "stream",
          "name": "stdout",
          "text": [
            "Matching articles saved to /content/full-lawenforcement_2.csv\n"
          ]
        }
      ]
    },
    {
      "cell_type": "code",
      "source": [
        "#step3_aggregation with space [ Now, I will be aggregating them but adding a space so that the articles will not overlap]"
      ],
      "metadata": {
        "id": "pLrtf5wg7Eih"
      },
      "execution_count": null,
      "outputs": []
    },
    {
      "cell_type": "code",
      "source": [
        "df_clean = pd.read_csv('/content/full-lawenforcement_2.csv')"
      ],
      "metadata": {
        "id": "Q-NpuZW15xSW"
      },
      "execution_count": null,
      "outputs": []
    },
    {
      "cell_type": "code",
      "source": [
        "aggregation_functions = {'sentence': ' '.join}"
      ],
      "metadata": {
        "id": "IcE6hfkX54Oi"
      },
      "execution_count": null,
      "outputs": []
    },
    {
      "cell_type": "code",
      "source": [
        "for column in df_clean.columns:\n",
        "    if column != 'sentence' and column !='filename':\n",
        "      aggregation_functions[column] = 'first'"
      ],
      "metadata": {
        "id": "NxQqpOvd6I4L"
      },
      "execution_count": null,
      "outputs": []
    },
    {
      "cell_type": "code",
      "source": [
        "df_grouped = df_clean.groupby('filename').agg(aggregation_functions).reset_index()"
      ],
      "metadata": {
        "id": "c7edaG0T6kTH"
      },
      "execution_count": null,
      "outputs": []
    },
    {
      "cell_type": "code",
      "source": [
        "output_file_path_3 = '/content/full-lawenforcement_agg_3.csv'\n",
        "df_grouped.to_csv(output_file_path_3, index=False)\n",
        "print(f\"Data saved to {output_file_path_3}\")"
      ],
      "metadata": {
        "colab": {
          "base_uri": "https://localhost:8080/"
        },
        "id": "Ls-vB-Eu6xNf",
        "outputId": "240ef29a-04ea-45fe-89f4-f709259d8fd0"
      },
      "execution_count": null,
      "outputs": [
        {
          "output_type": "stream",
          "name": "stdout",
          "text": [
            "Data saved to /content/full-lawenforcement_agg_3.csv\n"
          ]
        }
      ]
    },
    {
      "cell_type": "code",
      "source": [
        "#here, i am just trying to know thenumber of the stories that I have after aggregation"
      ],
      "metadata": {
        "id": "_39X0cwyKzA8"
      },
      "execution_count": null,
      "outputs": []
    },
    {
      "cell_type": "code",
      "source": [
        "\n",
        "df_clean = pd.read_csv('/content/full-lawenforcement_agg_3.csv')\n",
        "\n",
        "num_rows = len(df_clean)\n",
        "\n",
        "print(f\"Number of rows in the DataFrame: {num_rows}\")\n"
      ],
      "metadata": {
        "colab": {
          "base_uri": "https://localhost:8080/"
        },
        "id": "cmftQXBO-XeT",
        "outputId": "305e2d5f-d77c-4d2c-b858-08952cc4f3a3"
      },
      "execution_count": null,
      "outputs": [
        {
          "output_type": "stream",
          "name": "stdout",
          "text": [
            "Number of rows in the DataFrame: 1746\n"
          ]
        }
      ]
    },
    {
      "cell_type": "code",
      "source": [
        "#step4_count the length of the stories"
      ],
      "metadata": {
        "id": "O7Yb7ieIADkD"
      },
      "execution_count": null,
      "outputs": []
    },
    {
      "cell_type": "code",
      "source": [
        "import pandas as pd\n",
        "\n",
        "# Load the dataset\n",
        "df_clean = pd.read_csv('/content/full-lawenforcement_agg_3.csv')\n",
        "\n",
        "# Calculate the number of words in each 'sentence' and store it in a new column called 'articlewordcount'\n",
        "df_clean['articlewordcount'] = df_clean['sentence'].str.split().apply(len)\n",
        "\n",
        "# Display the DataFrame with the new 'articlewordcount' column\n",
        "print(df_clean[['sentence', 'articlewordcount']])\n",
        "\n",
        "# Specify the output file path\n",
        "output_file_path_count = '/content/full-lawenforcement_agg_count.csv'\n",
        "\n",
        "# Save the DataFrame with the new column to a CSV file\n",
        "df_clean.to_csv(output_file_path_count, index=False)\n",
        "\n",
        "# Print the save location\n",
        "print(f\"Data saved to {output_file_path_count}\")\n"
      ],
      "metadata": {
        "colab": {
          "base_uri": "https://localhost:8080/"
        },
        "id": "hjR8qTrDAUtV",
        "outputId": "4385cd62-2171-4074-fdfd-ade6196653f8"
      },
      "execution_count": null,
      "outputs": [
        {
          "output_type": "stream",
          "name": "stdout",
          "text": [
            "                                               sentence  articlewordcount\n",
            "0     is Lynch Law- High- handed Measure. est FREDER...               169\n",
            "1     FELLOW PRISONERS SANG. \" God Be With You\" Whil...               129\n",
            "2     A colored man, named Thomas Harden, was killed...                62\n",
            "3     Lynched. LITTLE ROCK, Ark., April 4.- Albert W...                33\n",
            "4     A MOB OF LYNCHERS DE FEATED. PAOLA, KAN., Feb....               302\n",
            "...                                                 ...               ...\n",
            "1741  Officers Endeavor to Apprehend Rioters in Raid...               257\n",
            "1742  A LYNCHING IN NEW YORK. The A Negro Brute Hang...               924\n",
            "1743  a Murderous Feuds in New Mexico. SANTA FE, N. ...               110\n",
            "1744  HANG KNIFE- WIELDING NEGRO. Mob Overpowers Gua...                74\n",
            "1745  There was some talk of a lynching at East Peru...                28\n",
            "\n",
            "[1746 rows x 2 columns]\n",
            "Data saved to /content/full-lawenforcement_agg_count.csv\n"
          ]
        }
      ]
    },
    {
      "cell_type": "code",
      "source": [
        "pip install matplotlib seaborn\n"
      ],
      "metadata": {
        "colab": {
          "base_uri": "https://localhost:8080/"
        },
        "id": "EXL4VLPMCJSa",
        "outputId": "33c75f9a-934e-4a20-934a-bf6a7881a765"
      },
      "execution_count": null,
      "outputs": [
        {
          "output_type": "stream",
          "name": "stdout",
          "text": [
            "Requirement already satisfied: matplotlib in /usr/local/lib/python3.10/dist-packages (3.7.1)\n",
            "Requirement already satisfied: seaborn in /usr/local/lib/python3.10/dist-packages (0.13.1)\n",
            "Requirement already satisfied: contourpy>=1.0.1 in /usr/local/lib/python3.10/dist-packages (from matplotlib) (1.2.1)\n",
            "Requirement already satisfied: cycler>=0.10 in /usr/local/lib/python3.10/dist-packages (from matplotlib) (0.12.1)\n",
            "Requirement already satisfied: fonttools>=4.22.0 in /usr/local/lib/python3.10/dist-packages (from matplotlib) (4.51.0)\n",
            "Requirement already satisfied: kiwisolver>=1.0.1 in /usr/local/lib/python3.10/dist-packages (from matplotlib) (1.4.5)\n",
            "Requirement already satisfied: numpy>=1.20 in /usr/local/lib/python3.10/dist-packages (from matplotlib) (1.25.2)\n",
            "Requirement already satisfied: packaging>=20.0 in /usr/local/lib/python3.10/dist-packages (from matplotlib) (24.0)\n",
            "Requirement already satisfied: pillow>=6.2.0 in /usr/local/lib/python3.10/dist-packages (from matplotlib) (9.4.0)\n",
            "Requirement already satisfied: pyparsing>=2.3.1 in /usr/local/lib/python3.10/dist-packages (from matplotlib) (3.1.2)\n",
            "Requirement already satisfied: python-dateutil>=2.7 in /usr/local/lib/python3.10/dist-packages (from matplotlib) (2.8.2)\n",
            "Requirement already satisfied: pandas>=1.2 in /usr/local/lib/python3.10/dist-packages (from seaborn) (2.0.3)\n",
            "Requirement already satisfied: pytz>=2020.1 in /usr/local/lib/python3.10/dist-packages (from pandas>=1.2->seaborn) (2023.4)\n",
            "Requirement already satisfied: tzdata>=2022.1 in /usr/local/lib/python3.10/dist-packages (from pandas>=1.2->seaborn) (2024.1)\n",
            "Requirement already satisfied: six>=1.5 in /usr/local/lib/python3.10/dist-packages (from python-dateutil>=2.7->matplotlib) (1.16.0)\n"
          ]
        }
      ]
    },
    {
      "cell_type": "code",
      "source": [
        "import pandas as pd\n",
        "import matplotlib.pyplot as plt\n",
        "import seaborn as sns\n",
        "\n",
        "# Load the dataset\n",
        "df_clean = pd.read_csv('/content/full-lawenforcement_agg_count.csv')\n",
        "\n",
        "# Plotting the histogram of word counts\n",
        "plt.figure(figsize=(10, 6))\n",
        "sns.histplot(df_clean['articlewordcount'], bins=30, kde=False)\n",
        "plt.title('Distribution of Word Counts')\n",
        "plt.xlabel('Word Count')\n",
        "plt.ylabel('Frequency')\n",
        "plt.show()\n",
        "\n",
        "# To visualize word counts by year and state\n",
        "# Create a scatter plot for word count by year\n",
        "plt.figure(figsize=(10, 6))\n",
        "sns.scatterplot(data=df_clean, x='year', y='articlewordcount', hue='newspaper_state', style='newspaper_state', s=100)\n",
        "plt.title('Word Count by Year and State')\n",
        "plt.xlabel('Year')\n",
        "plt.ylabel('Word Count')\n",
        "plt.legend(title='State', bbox_to_anchor=(1.05, 1), loc='upper left')\n",
        "plt.grid(True)\n",
        "plt.show()\n",
        "\n"
      ],
      "metadata": {
        "colab": {
          "base_uri": "https://localhost:8080/",
          "height": 1000
        },
        "id": "Zp4-Y9lFCNv5",
        "outputId": "ac7c571e-47dd-4d34-ee7c-e8b4d60fca8e"
      },
      "execution_count": null,
      "outputs": [
        {
          "output_type": "display_data",
          "data": {
            "text/plain": [
              "<Figure size 1000x600 with 1 Axes>"
            ],
            "image/png": "[encoded data removed]"
          },
          "metadata": {}
        },
        {
          "output_type": "display_data",
          "data": {
            "text/plain": [
              "<Figure size 1000x600 with 1 Axes>"
            ],
            "image/png": "[encoded data removed]"
          },
          "metadata": {}
        }
      ]
    },
    {
      "cell_type": "code",
      "source": [
        "#Step 5: I need to break the stories in the sentence columns into sentences. However, I need a way to define a sentence. Each sentence should end with a full stop."
      ],
      "metadata": {
        "id": "-MKPWvuq-5_l"
      },
      "execution_count": null,
      "outputs": []
    },
    {
      "cell_type": "code",
      "source": [
        "#libararies\n",
        "import nltk\n",
        "from nltk.tokenize import sent_tokenize"
      ],
      "metadata": {
        "id": "ZVf9eeI2AA7r"
      },
      "execution_count": null,
      "outputs": []
    },
    {
      "cell_type": "code",
      "source": [
        "#model for tokenization\n",
        "\n",
        "nltk.download('punkt')"
      ],
      "metadata": {
        "colab": {
          "base_uri": "https://localhost:8080/"
        },
        "id": "7qFAp_wOALdF",
        "outputId": "c33d3202-f22b-456f-d813-0529fdc2af3a"
      },
      "execution_count": null,
      "outputs": [
        {
          "output_type": "stream",
          "name": "stderr",
          "text": [
            "[nltk_data] Downloading package punkt to /root/nltk_data...\n",
            "[nltk_data]   Package punkt is already up-to-date!\n"
          ]
        },
        {
          "output_type": "execute_result",
          "data": {
            "text/plain": [
              "True"
            ]
          },
          "metadata": {},
          "execution_count": 98
        }
      ]
    },
    {
      "cell_type": "code",
      "source": [
        "law_sentence_df = pd.read_csv('/content/full-lawenforcement_agg_3.csv')"
      ],
      "metadata": {
        "id": "S-CxGfe4Ahq-"
      },
      "execution_count": null,
      "outputs": []
    },
    {
      "cell_type": "code",
      "source": [
        "#function to split whole story into sentences\n",
        "def split_into_sentences(text):\n",
        "    return sent_tokenize(text)"
      ],
      "metadata": {
        "id": "ueWGaoMRAxaN"
      },
      "execution_count": null,
      "outputs": []
    },
    {
      "cell_type": "code",
      "source": [
        "# apply the function to each row in my dataframe\n",
        "law_sentence_df['sentence'] = law_sentence_df['sentence'].apply(split_into_sentences)"
      ],
      "metadata": {
        "id": "fBjn6R_8BKtJ"
      },
      "execution_count": null,
      "outputs": []
    },
    {
      "cell_type": "code",
      "source": [
        "#now, I will create a new row for each sentence while keeping the whole context using explode\n",
        "\n",
        "df_exploded = law_sentence_df.explode('sentence')\n"
      ],
      "metadata": {
        "id": "fbNSGvIEBs1B"
      },
      "execution_count": null,
      "outputs": []
    },
    {
      "cell_type": "code",
      "source": [
        "#I will export to see how the data was processed\n",
        "\n",
        "output_file_path_4 = '/content/full-lawenforcement_split_sent_4.csv'\n",
        "\n",
        "df_exploded.to_csv(output_file_path_4, index=False)\n",
        "print(f\"Data saved to {output_file_path_4}]\")\n"
      ],
      "metadata": {
        "colab": {
          "base_uri": "https://localhost:8080/"
        },
        "id": "aMYEhQOeCLxa",
        "outputId": "ca87c773-1a63-4ae5-ea04-49f5ffa91053"
      },
      "execution_count": null,
      "outputs": [
        {
          "output_type": "stream",
          "name": "stdout",
          "text": [
            "Data saved to /content/full-lawenforcement_split_sent_4.csv]\n"
          ]
        }
      ]
    },
    {
      "cell_type": "code",
      "source": [
        "#Step 6 - After organizing the text into a complete story—since the original raw material was disorganized—I have aggregated the content. Next, I split the stories into sentences or lines. Now, I will select the sentences that include certain keywords for later analysis.\""
      ],
      "metadata": {
        "id": "Fojh0xewD6bL"
      },
      "execution_count": null,
      "outputs": []
    },
    {
      "cell_type": "code",
      "source": [
        "keywords_police_new = ['sheriff', 'Sheriff', 'Sheriffs','SHERIFF', 'police', 'Police', 'POLICE',  'policeman', 'Policeman', 'POLICEMAN', 'policemen', 'Policemen', 'POLICEMEN', 'officer', 'officers', 'Officer', 'OFFICER', 'OFFICERS', 'lawman', 'lawmen','LAWMAN', 'LAWMEN']"
      ],
      "metadata": {
        "id": "THwbqCqbGJ8X"
      },
      "execution_count": null,
      "outputs": []
    },
    {
      "cell_type": "code",
      "source": [
        "# create a boolean mask that will be True for sentences that include any of the above keywords\n",
        "\n",
        "pattern_police = '|'.join(keywords_police_new)\n",
        "\n",
        "mask = df_exploded['sentence'].str.contains(pattern_police, case=False, na =False)\n"
      ],
      "metadata": {
        "id": "a8mDEPeSGW8d"
      },
      "execution_count": null,
      "outputs": []
    },
    {
      "cell_type": "code",
      "source": [
        "print(\"Regex pattern used for filtering:\", pattern_police)"
      ],
      "metadata": {
        "colab": {
          "base_uri": "https://localhost:8080/"
        },
        "id": "6M7FzeofI61V",
        "outputId": "c5440b36-bbf0-42a2-dd6b-44fa08d0a58a"
      },
      "execution_count": null,
      "outputs": [
        {
          "output_type": "stream",
          "name": "stdout",
          "text": [
            "Regex pattern used for filtering: sheriff|Sheriff|Sheriffs|SHERIFF|police|Police|POLICE|policeman|Policeman|POLICEMAN|policemen|Policemen|POLICEMEN|officer|officers|Officer|OFFICER|OFFICERS|lawman|lawmen|LAWMAN|LAWMEN\n"
          ]
        }
      ]
    },
    {
      "cell_type": "code",
      "source": [
        "#then apply the mask on my dataframe\n",
        "\n",
        "police_only_filtered_df = df_exploded[mask]\n"
      ],
      "metadata": {
        "id": "IcWBcfVtHCYg"
      },
      "execution_count": null,
      "outputs": []
    },
    {
      "cell_type": "code",
      "source": [
        "print(police_only_filtered_df['sentence'].head())\n"
      ],
      "metadata": {
        "colab": {
          "base_uri": "https://localhost:8080/"
        },
        "id": "CwdQbPB8JEJa",
        "outputId": "5473e77b-2e69-4704-8f14-e16a2cc75102"
      },
      "execution_count": null,
      "outputs": [
        {
          "output_type": "stream",
          "name": "stdout",
          "text": [
            "0    A mob of two hundred men, including justices u...\n",
            "1    He only asked Sheriff Tobin to be sure to fix ...\n",
            "1    There were 250 witnesses to the hanging among ...\n",
            "2    The police are in search of a negro named Wash...\n",
            "3    LITTLE ROCK, Ark., April 4.- Albert Williams ,...\n",
            "Name: sentence, dtype: object\n"
          ]
        }
      ]
    },
    {
      "cell_type": "code",
      "source": [
        " #I will export to see how the data was processed\n",
        "\n",
        "output_file_police_only = '/content/full-lawenforcement_police_only_sent_MAIN.csv'\n",
        "\n",
        "police_only_filtered_df.to_csv(output_file_police_only, index=False)\n",
        "print(f\"Data saved to {output_file_police_only}]\")\n"
      ],
      "metadata": {
        "colab": {
          "base_uri": "https://localhost:8080/"
        },
        "id": "Dn19_lzjHPL7",
        "outputId": "b9701e23-c119-40a3-f101-e110835950ff"
      },
      "execution_count": null,
      "outputs": [
        {
          "output_type": "stream",
          "name": "stdout",
          "text": [
            "Data saved to /content/full-lawenforcement_police_only_sent_MAIN.csv]\n"
          ]
        }
      ]
    },
    {
      "cell_type": "code",
      "source": [
        "\n",
        "police_only_filtered_df = pd.read_csv('/content/full-lawenforcement_police_only_sent_MAIN.csv')\n",
        "\n",
        "num_rows = len(police_only_filtered_df)\n",
        "\n",
        "print(f\"Number of rows in the DataFrame: {num_rows}\")"
      ],
      "metadata": {
        "colab": {
          "base_uri": "https://localhost:8080/"
        },
        "id": "l0Qvl7Hmf0on",
        "outputId": "3297f790-5707-4865-afc8-350f7203c05f"
      },
      "execution_count": null,
      "outputs": [
        {
          "output_type": "stream",
          "name": "stdout",
          "text": [
            "Number of rows in the DataFrame: 3126\n"
          ]
        }
      ]
    },
    {
      "cell_type": "markdown",
      "source": [
        "So, the total number of stories I have is **1746**, and after breaking down these stories into sentences and extracting\n",
        "those that contain specific keywords for analysis, the total number of sentences is **3126**."
      ],
      "metadata": {
        "id": "QZk__6-EKsKS"
      }
    },
    {
      "cell_type": "markdown",
      "source": [
        "At this stage, I have data to analyze how the media portrayed law enforcement and to identify the frames used. I can also conduct topic modeling."
      ],
      "metadata": {
        "id": "lrFOxVCMLa4Q"
      }
    },
    {
      "cell_type": "markdown",
      "source": [
        "I can also see how this varied over time and by region."
      ],
      "metadata": {
        "id": "ru2jM3T2LcnI"
      }
    },
    {
      "cell_type": "markdown",
      "source": [
        "However, before proceeding with more **dependency parsing**, I will first conduct **sentiment analysis** but perform **data cleaning** (first)."
      ],
      "metadata": {
        "id": "tRdwKFBlLk5a"
      }
    },
    {
      "cell_type": "code",
      "source": [
        "#step 7 cleaning before sentiment analysis"
      ],
      "metadata": {
        "id": "uM_g1CzMLker"
      },
      "execution_count": null,
      "outputs": []
    },
    {
      "cell_type": "code",
      "source": [
        "\n",
        "import re\n",
        "import nltk\n",
        "from nltk.corpus import stopwords\n",
        "from nltk.corpus import stopwords\n"
      ],
      "metadata": {
        "id": "ZC9B3crMRZuS"
      },
      "execution_count": null,
      "outputs": []
    },
    {
      "cell_type": "code",
      "source": [
        "nltk.download('punkt')\n",
        "nltk.download('stopwords')\n",
        "nltk.download('wordnet')\n",
        "nltk.download('omw-1.4')"
      ],
      "metadata": {
        "colab": {
          "base_uri": "https://localhost:8080/"
        },
        "id": "_WXANbS1OAwC",
        "outputId": "5ca04683-bf89-4cd6-8756-f6e3809b3a52"
      },
      "execution_count": null,
      "outputs": [
        {
          "output_type": "stream",
          "name": "stderr",
          "text": [
            "[nltk_data] Downloading package punkt to /root/nltk_data...\n",
            "[nltk_data]   Package punkt is already up-to-date!\n",
            "[nltk_data] Downloading package stopwords to /root/nltk_data...\n",
            "[nltk_data]   Package stopwords is already up-to-date!\n",
            "[nltk_data] Downloading package wordnet to /root/nltk_data...\n",
            "[nltk_data]   Package wordnet is already up-to-date!\n",
            "[nltk_data] Downloading package omw-1.4 to /root/nltk_data...\n",
            "[nltk_data]   Package omw-1.4 is already up-to-date!\n"
          ]
        },
        {
          "output_type": "execute_result",
          "data": {
            "text/plain": [
              "True"
            ]
          },
          "metadata": {},
          "execution_count": 114
        }
      ]
    },
    {
      "cell_type": "code",
      "source": [
        "#stop_words = set(stopwords.words('english'))\n"
      ],
      "metadata": {
        "id": "qky6mrsRSnS8"
      },
      "execution_count": null,
      "outputs": []
    },
    {
      "cell_type": "code",
      "source": [
        "#removing unnecessary characters and spaces\n",
        "\n",
        "#def clean_text(text):\n",
        "     #text = re.sub(r'[^a-zA-Z\\s]', '', text, re.I|re.A)\n",
        "     #text = text.strip()\n",
        "    #return text"
      ],
      "metadata": {
        "id": "lqUO8NjsPDgr"
      },
      "execution_count": null,
      "outputs": []
    },
    {
      "cell_type": "code",
      "source": [
        "#lowercasing\n",
        "#def to_lower(text):\n",
        "    #return text.lower()"
      ],
      "metadata": {
        "id": "82hXaye3PhG-"
      },
      "execution_count": null,
      "outputs": []
    },
    {
      "cell_type": "code",
      "source": [
        "#remove stop words\n",
        "#def remove_stop_word(text):\n",
        "    #return ' '.join(word for word in text.split() if word not in stop_words)\n"
      ],
      "metadata": {
        "id": "hCX-COoAPp4_"
      },
      "execution_count": null,
      "outputs": []
    },
    {
      "cell_type": "code",
      "source": [
        "#then combining all functions before processing\n",
        "#def full_cleaning(text):\n",
        "    #text = clean_text(text)\n",
        "    #text = to_lower(text)\n",
        "    #text = remove_stop_word(text)\n",
        "    #return text"
      ],
      "metadata": {
        "id": "6YFAnvchQQmQ"
      },
      "execution_count": null,
      "outputs": []
    },
    {
      "cell_type": "code",
      "source": [
        "#read\n",
        "\n",
        "#clean_police_df_1 = pd.read_csv('/content/full-lawenforcement_police_only_sent_MAIN.csv')"
      ],
      "metadata": {
        "id": "-9ZmrMlRRnPK"
      },
      "execution_count": null,
      "outputs": []
    },
    {
      "cell_type": "code",
      "source": [
        "#apply\n",
        "\n",
        "#clean_police_df_1['sentence'] = clean_police_df_1['sentence'].apply(full_cleaning)"
      ],
      "metadata": {
        "id": "JbaSjvqLR0xT"
      },
      "execution_count": null,
      "outputs": []
    },
    {
      "cell_type": "code",
      "source": [
        "#print(clean_police_df_1['sentence'].head())"
      ],
      "metadata": {
        "id": "g-6_3JacK939"
      },
      "execution_count": null,
      "outputs": []
    },
    {
      "cell_type": "code",
      "source": [
        " #I will export to see how the data was processed\n",
        "#output_file_police_only_clean = '/content/law_clean_New_MAIN.csv'\n",
        "#clean_police_df_1.to_csv(output_file_police_only_clean, index=False)\n",
        "#print(f\"Data saved to {output_file_police_only_clean}\")"
      ],
      "metadata": {
        "id": "jwD2nPGFTDgA"
      },
      "execution_count": null,
      "outputs": []
    },
    {
      "cell_type": "code",
      "source": [
        "#Step 7 cleaning before parsing"
      ],
      "metadata": {
        "id": "isuu0AgHSpit"
      },
      "execution_count": null,
      "outputs": []
    },
    {
      "cell_type": "code",
      "source": [
        "pip install pandas spacy"
      ],
      "metadata": {
        "colab": {
          "base_uri": "https://localhost:8080/"
        },
        "id": "d_1ppJ0JWVjq",
        "outputId": "8f3f0d93-f8a6-4454-9315-b55626fab16e"
      },
      "execution_count": null,
      "outputs": [
        {
          "output_type": "stream",
          "name": "stdout",
          "text": [
            "Requirement already satisfied: pandas in /usr/local/lib/python3.10/dist-packages (2.0.3)\n",
            "Requirement already satisfied: spacy in /usr/local/lib/python3.10/dist-packages (3.7.4)\n",
            "Requirement already satisfied: python-dateutil>=2.8.2 in /usr/local/lib/python3.10/dist-packages (from pandas) (2.8.2)\n",
            "Requirement already satisfied: pytz>=2020.1 in /usr/local/lib/python3.10/dist-packages (from pandas) (2023.4)\n",
            "Requirement already satisfied: tzdata>=2022.1 in /usr/local/lib/python3.10/dist-packages (from pandas) (2024.1)\n",
            "Requirement already satisfied: numpy>=1.21.0 in /usr/local/lib/python3.10/dist-packages (from pandas) (1.25.2)\n",
            "Requirement already satisfied: spacy-legacy<3.1.0,>=3.0.11 in /usr/local/lib/python3.10/dist-packages (from spacy) (3.0.12)\n",
            "Requirement already satisfied: spacy-loggers<2.0.0,>=1.0.0 in /usr/local/lib/python3.10/dist-packages (from spacy) (1.0.5)\n",
            "Requirement already satisfied: murmurhash<1.1.0,>=0.28.0 in /usr/local/lib/python3.10/dist-packages (from spacy) (1.0.10)\n",
            "Requirement already satisfied: cymem<2.1.0,>=2.0.2 in /usr/local/lib/python3.10/dist-packages (from spacy) (2.0.8)\n",
            "Requirement already satisfied: preshed<3.1.0,>=3.0.2 in /usr/local/lib/python3.10/dist-packages (from spacy) (3.0.9)\n",
            "Requirement already satisfied: thinc<8.3.0,>=8.2.2 in /usr/local/lib/python3.10/dist-packages (from spacy) (8.2.3)\n",
            "Requirement already satisfied: wasabi<1.2.0,>=0.9.1 in /usr/local/lib/python3.10/dist-packages (from spacy) (1.1.2)\n",
            "Requirement already satisfied: srsly<3.0.0,>=2.4.3 in /usr/local/lib/python3.10/dist-packages (from spacy) (2.4.8)\n",
            "Requirement already satisfied: catalogue<2.1.0,>=2.0.6 in /usr/local/lib/python3.10/dist-packages (from spacy) (2.0.10)\n",
            "Requirement already satisfied: weasel<0.4.0,>=0.1.0 in /usr/local/lib/python3.10/dist-packages (from spacy) (0.3.4)\n",
            "Requirement already satisfied: typer<0.10.0,>=0.3.0 in /usr/local/lib/python3.10/dist-packages (from spacy) (0.9.4)\n",
            "Requirement already satisfied: smart-open<7.0.0,>=5.2.1 in /usr/local/lib/python3.10/dist-packages (from spacy) (6.4.0)\n",
            "Requirement already satisfied: tqdm<5.0.0,>=4.38.0 in /usr/local/lib/python3.10/dist-packages (from spacy) (4.66.2)\n",
            "Requirement already satisfied: requests<3.0.0,>=2.13.0 in /usr/local/lib/python3.10/dist-packages (from spacy) (2.31.0)\n",
            "Requirement already satisfied: pydantic!=1.8,!=1.8.1,<3.0.0,>=1.7.4 in /usr/local/lib/python3.10/dist-packages (from spacy) (2.6.4)\n",
            "Requirement already satisfied: jinja2 in /usr/local/lib/python3.10/dist-packages (from spacy) (3.1.3)\n",
            "Requirement already satisfied: setuptools in /usr/local/lib/python3.10/dist-packages (from spacy) (67.7.2)\n",
            "Requirement already satisfied: packaging>=20.0 in /usr/local/lib/python3.10/dist-packages (from spacy) (24.0)\n",
            "Requirement already satisfied: langcodes<4.0.0,>=3.2.0 in /usr/local/lib/python3.10/dist-packages (from spacy) (3.3.0)\n",
            "Requirement already satisfied: annotated-types>=0.4.0 in /usr/local/lib/python3.10/dist-packages (from pydantic!=1.8,!=1.8.1,<3.0.0,>=1.7.4->spacy) (0.6.0)\n",
            "Requirement already satisfied: pydantic-core==2.16.3 in /usr/local/lib/python3.10/dist-packages (from pydantic!=1.8,!=1.8.1,<3.0.0,>=1.7.4->spacy) (2.16.3)\n",
            "Requirement already satisfied: typing-extensions>=4.6.1 in /usr/local/lib/python3.10/dist-packages (from pydantic!=1.8,!=1.8.1,<3.0.0,>=1.7.4->spacy) (4.11.0)\n",
            "Requirement already satisfied: six>=1.5 in /usr/local/lib/python3.10/dist-packages (from python-dateutil>=2.8.2->pandas) (1.16.0)\n",
            "Requirement already satisfied: charset-normalizer<4,>=2 in /usr/local/lib/python3.10/dist-packages (from requests<3.0.0,>=2.13.0->spacy) (3.3.2)\n",
            "Requirement already satisfied: idna<4,>=2.5 in /usr/local/lib/python3.10/dist-packages (from requests<3.0.0,>=2.13.0->spacy) (3.6)\n",
            "Requirement already satisfied: urllib3<3,>=1.21.1 in /usr/local/lib/python3.10/dist-packages (from requests<3.0.0,>=2.13.0->spacy) (2.0.7)\n",
            "Requirement already satisfied: certifi>=2017.4.17 in /usr/local/lib/python3.10/dist-packages (from requests<3.0.0,>=2.13.0->spacy) (2024.2.2)\n",
            "Requirement already satisfied: blis<0.8.0,>=0.7.8 in /usr/local/lib/python3.10/dist-packages (from thinc<8.3.0,>=8.2.2->spacy) (0.7.11)\n",
            "Requirement already satisfied: confection<1.0.0,>=0.0.1 in /usr/local/lib/python3.10/dist-packages (from thinc<8.3.0,>=8.2.2->spacy) (0.1.4)\n",
            "Requirement already satisfied: click<9.0.0,>=7.1.1 in /usr/local/lib/python3.10/dist-packages (from typer<0.10.0,>=0.3.0->spacy) (8.1.7)\n",
            "Requirement already satisfied: cloudpathlib<0.17.0,>=0.7.0 in /usr/local/lib/python3.10/dist-packages (from weasel<0.4.0,>=0.1.0->spacy) (0.16.0)\n",
            "Requirement already satisfied: MarkupSafe>=2.0 in /usr/local/lib/python3.10/dist-packages (from jinja2->spacy) (2.1.5)\n"
          ]
        }
      ]
    },
    {
      "cell_type": "code",
      "source": [
        " import spacy\n",
        " import re"
      ],
      "metadata": {
        "id": "WTUBkY6BXBxb"
      },
      "execution_count": null,
      "outputs": []
    },
    {
      "cell_type": "code",
      "source": [
        "#spacymodel\n",
        "nlp = spacy.load(\"en_core_web_sm\")"
      ],
      "metadata": {
        "id": "F2bq3hOHXIJU"
      },
      "execution_count": null,
      "outputs": []
    },
    {
      "cell_type": "code",
      "source": [
        "#setup for expanding contractions (don't = do not) - I know it is not practical but I tried to collect all contractions, all possible one but I might need to find a model\n",
        "\n",
        "contractions_dict = {\n",
        "    \"don't\": \"do not\",\n",
        "    \"isn't\": \"is not\",\n",
        "    \"can't\": \"cannot\",\n",
        "    \"won't\": \"will not\",\n",
        "    \"didn't\": \"did not\",\n",
        "    \"it's\": \"it is\",\n",
        "    \"i'm\": \"I am\",\n",
        "    \"she's\": \"she is\",\n",
        "    \"he's\": \"he is\",\n",
        "    \"that's\": \"that is\",\n",
        "    \"there's\": \"there is\",\n",
        "    \"what's\": \"what is\",\n",
        "    \"where's\": \"where is\",\n",
        "    \"how's\": \"how is\",\n",
        "    \"let's\": \"let us\",\n",
        "    \"you're\": \"you are\",\n",
        "    \"we're\": \"we are\",\n",
        "    \"they're\": \"they are\",\n",
        "    \"i've\": \"I have\",\n",
        "    \"you've\": \"you have\",\n",
        "    \"we've\": \"we have\",\n",
        "    \"they've\": \"they have\",\n",
        "    \"should've\": \"should have\",\n",
        "    \"could've\": \"could have\",\n",
        "    \"might've\": \"might have\",\n",
        "    \"must've\": \"must have\",\n",
        "    \"you'll\": \"you will\",\n",
        "    \"we'll\": \"we will\",\n",
        "    \"he'll\": \"he will\",\n",
        "    \"she'll\": \"she will\",\n",
        "    \"it'll\": \"it will\",\n",
        "    \"they'll\": \"they will\",\n",
        "    \"ain't\": \"am not\",\n",
        "    \"aren't\": \"are not\",\n",
        "    \"wasn't\": \"was not\",\n",
        "    \"weren't\": \"were not\",\n",
        "    \"hasn't\": \"has not\",\n",
        "    \"haven't\": \"have not\",\n",
        "    \"hadn't\": \"had not\",\n",
        "    \"doesn't\": \"does not\",\n",
        "    \"don't\": \"do not\",\n",
        "    \"wouldn't\": \"would not\",\n",
        "    \"shouldn't\": \"should not\",\n",
        "    \"mightn't\": \"might not\",\n",
        "    \"mustn't\": \"must not\",\n",
        "    \"can't've\": \"cannot have\",\n",
        "    \"shouldn't've\": \"should not have\",\n",
        "    \"would've\": \"would have\",\n",
        "    \"could've\": \"could have\",\n",
        "    \"might've\": \"might have\",\n",
        "    \"i'd\": \"I would\",\n",
        "    \"you'd\": \"you would\",\n",
        "    \"he'd\": \"he would\",\n",
        "    \"she'd\": \"she would\",\n",
        "    \"we'd\": \"we would\",\n",
        "    \"they'd\": \"they would\",\n",
        "    \"i'd've\": \"I would have\",\n",
        "    \"you'd've\": \"you would have\",\n",
        "    \"he'd've\": \"he would have\",\n",
        "    \"she'd've\": \"she would have\",\n",
        "    \"we'd've\": \"we would have\",\n",
        "    \"they'd've\": \"they would have\"\n",
        "}\n"
      ],
      "metadata": {
        "id": "2h9g7_w5XsW7"
      },
      "execution_count": null,
      "outputs": []
    },
    {
      "cell_type": "code",
      "source": [
        "#then i will adding reg ( regular expression so that it can help with finding contrcations)\n",
        "\n",
        "contractions_re = re.compile('(%s)' % '|'.join(contractions_dict.keys()))\n"
      ],
      "metadata": {
        "id": "n5Ao3-YqYUko"
      },
      "execution_count": null,
      "outputs": []
    },
    {
      "cell_type": "code",
      "source": [
        "#functions for cleaning\n",
        "#function for looking for contrcations\n",
        "\n",
        "def expand_contractions(text, contractions_dict=contractions_dict):\n",
        "    def replace(match):\n",
        "        return contractions_dict[match.group(0)]\n",
        "    return contractions_re.sub(replace, text)\n"
      ],
      "metadata": {
        "id": "rgPokkkSYp7B"
      },
      "execution_count": null,
      "outputs": []
    },
    {
      "cell_type": "code",
      "source": [
        "#then clean text function and here I process the text through Spacy to ensure the sentences are correctly formed\n",
        "\n",
        "def clean_text(text):\n",
        "    text = expand_contractions(text)\n",
        "    doc = nlp(text)\n",
        "    clean_text = ' '.join(sent.text.strip() for sent in doc.sents)\n",
        "    return clean_text\n",
        "\n"
      ],
      "metadata": {
        "id": "xjBzjz73ZbXf"
      },
      "execution_count": null,
      "outputs": []
    },
    {
      "cell_type": "code",
      "source": [
        "main_clean_df = pd.read_csv(\"/content/full-lawenforcement_police_only_sent_MAIN.csv\")\n"
      ],
      "metadata": {
        "id": "vQmZMui8Z0Pa"
      },
      "execution_count": null,
      "outputs": []
    },
    {
      "cell_type": "code",
      "source": [
        "#applying functions\n",
        "main_clean_df['cleaned_sentence'] = main_clean_df['sentence'].apply(clean_text)\n",
        "\n"
      ],
      "metadata": {
        "id": "PwjsII21Z9uu"
      },
      "execution_count": null,
      "outputs": []
    },
    {
      "cell_type": "code",
      "source": [
        "main_clean_df.to_csv(\"/content/clean_April10.csv\", index=False)\n"
      ],
      "metadata": {
        "id": "4TXV7UBaapD4"
      },
      "execution_count": null,
      "outputs": []
    },
    {
      "cell_type": "code",
      "source": [
        "#step 8_parsing"
      ],
      "metadata": {
        "id": "b7QyCtVtbH3l"
      },
      "execution_count": null,
      "outputs": []
    },
    {
      "cell_type": "code",
      "source": [
        "cleaned_data = pd.read_csv('/content/clean_April10.csv')\n",
        "\n",
        "df = cleaned_data"
      ],
      "metadata": {
        "id": "zSk6MtWJbqXF"
      },
      "execution_count": null,
      "outputs": []
    },
    {
      "cell_type": "code",
      "source": [
        "#Child_relation [1]\n",
        "#function to relation\n",
        "def find_keyword_adjective_relations(df, sentence, keywords_police_new):\n",
        "    relations_1 = []\n",
        "    for text in df[sentence]:\n",
        "        if pd.isnull(text):\n",
        "            continue\n",
        "        doc = nlp(str(text))\n",
        "        for token in doc:\n",
        "            if token.text in keywords_police_new and token.pos_ == 'NOUN':\n",
        "                for child in token.children:\n",
        "                    if child.pos_ == 'ADJ':\n",
        "                        relations_1.append((token.text, child.text))\n",
        "    return pd.DataFrame(relations_1)\n",
        "\n",
        "\n",
        "keywords_police_new = ['sheriff', 'Sheriff', 'Sheriffs','SHERIFF', 'police', 'Police', 'POLICE',  'policeman', 'Policeman', 'POLICEMAN', 'policemen', 'Policemen', 'POLICEMEN', 'officer', 'officers', 'Officer', 'OFFICER', 'OFFICERS', 'lawman', 'lawmen','LAWMAN', 'LAWMEN']\n",
        "\n",
        "relations_1_df = find_keyword_adjective_relations(df, 'sentence', keywords_police_new)\n",
        "relations_1_df\n",
        "\n"
      ],
      "metadata": {
        "colab": {
          "base_uri": "https://localhost:8080/",
          "height": 419
        },
        "id": "eXZYgGeSY7u5",
        "outputId": "3e0b1d3d-c8ce-4dca-bd05-b375a86fbea2"
      },
      "execution_count": null,
      "outputs": [
        {
          "output_type": "execute_result",
          "data": {
            "text/plain": [
              "             0        1\n",
              "0      officer  popular\n",
              "1     officers    local\n",
              "2      sheriff     dead\n",
              "3       police    local\n",
              "4      sheriff  present\n",
              "..         ...      ...\n",
              "137   officers    other\n",
              "138    sheriff    wound\n",
              "139   officers    Other\n",
              "140  policeman  special\n",
              "141   officers    other\n",
              "\n",
              "[142 rows x 2 columns]"
            ],
            "text/html": [
              "\n",
              "  <div id=\"df-cf02052b-2ede-4601-8594-5fe44b6d9ca6\" class=\"colab-df-container\">\n",
              "    <div>\n",
              "<style scoped>\n",
              "    .dataframe tbody tr th:only-of-type {\n",
              "        vertical-align: middle;\n",
              "    }\n",
              "\n",
              "    .dataframe tbody tr th {\n",
              "        vertical-align: top;\n",
              "    }\n",
              "\n",
              "    .dataframe thead th {\n",
              "        text-align: right;\n",
              "    }\n",
              "</style>\n",
              "<table border=\"1\" class=\"dataframe\">\n",
              "  <thead>\n",
              "    <tr style=\"text-align: right;\">\n",
              "      <th></th>\n",
              "      <th>0</th>\n",
              "      <th>1</th>\n",
              "    </tr>\n",
              "  </thead>\n",
              "  <tbody>\n",
              "    <tr>\n",
              "      <th>0</th>\n",
              "      <td>officer</td>\n",
              "      <td>popular</td>\n",
              "    </tr>\n",
              "    <tr>\n",
              "      <th>1</th>\n",
              "      <td>officers</td>\n",
              "      <td>local</td>\n",
              "    </tr>\n",
              "    <tr>\n",
              "      <th>2</th>\n",
              "      <td>sheriff</td>\n",
              "      <td>dead</td>\n",
              "    </tr>\n",
              "    <tr>\n",
              "      <th>3</th>\n",
              "      <td>police</td>\n",
              "      <td>local</td>\n",
              "    </tr>\n",
              "    <tr>\n",
              "      <th>4</th>\n",
              "      <td>sheriff</td>\n",
              "      <td>present</td>\n",
              "    </tr>\n",
              "    <tr>\n",
              "      <th>...</th>\n",
              "      <td>...</td>\n",
              "      <td>...</td>\n",
              "    </tr>\n",
              "    <tr>\n",
              "      <th>137</th>\n",
              "      <td>officers</td>\n",
              "      <td>other</td>\n",
              "    </tr>\n",
              "    <tr>\n",
              "      <th>138</th>\n",
              "      <td>sheriff</td>\n",
              "      <td>wound</td>\n",
              "    </tr>\n",
              "    <tr>\n",
              "      <th>139</th>\n",
              "      <td>officers</td>\n",
              "      <td>Other</td>\n",
              "    </tr>\n",
              "    <tr>\n",
              "      <th>140</th>\n",
              "      <td>policeman</td>\n",
              "      <td>special</td>\n",
              "    </tr>\n",
              "    <tr>\n",
              "      <th>141</th>\n",
              "      <td>officers</td>\n",
              "      <td>other</td>\n",
              "    </tr>\n",
              "  </tbody>\n",
              "</table>\n",
              "<p>142 rows × 2 columns</p>\n",
              "</div>\n",
              "    <div class=\"colab-df-buttons\">\n",
              "\n",
              "  <div class=\"colab-df-container\">\n",
              "    <button class=\"colab-df-convert\" onclick=\"convertToInteractive('df-cf02052b-2ede-4601-8594-5fe44b6d9ca6')\"\n",
              "            title=\"Convert this dataframe to an interactive table.\"\n",
              "            style=\"display:none;\">\n",
              "\n",
              "  <svg xmlns=\"http://www.w3.org/2000/svg\" height=\"24px\" viewBox=\"0 -960 960 960\">\n",
              "    <path d=\"M120-120v-720h720v720H120Zm60-500h600v-160H180v160Zm220 220h160v-160H400v160Zm0 220h160v-160H400v160ZM180-400h160v-160H180v160Zm440 0h160v-160H620v160ZM180-180h160v-160H180v160Zm440 0h160v-160H620v160Z\"/>\n",
              "  </svg>\n",
              "    </button>\n",
              "\n",
              "  <style>\n",
              "    .colab-df-container {\n",
              "      display:flex;\n",
              "      gap: 12px;\n",
              "    }\n",
              "\n",
              "    .colab-df-convert {\n",
              "      background-color: #E8F0FE;\n",
              "      border: none;\n",
              "      border-radius: 50%;\n",
              "      cursor: pointer;\n",
              "      display: none;\n",
              "      fill: #1967D2;\n",
              "      height: 32px;\n",
              "      padding: 0 0 0 0;\n",
              "      width: 32px;\n",
              "    }\n",
              "\n",
              "    .colab-df-convert:hover {\n",
              "      background-color: #E2EBFA;\n",
              "      box-shadow: 0px 1px 2px rgba(60, 64, 67, 0.3), 0px 1px 3px 1px rgba(60, 64, 67, 0.15);\n",
              "      fill: #174EA6;\n",
              "    }\n",
              "\n",
              "    .colab-df-buttons div {\n",
              "      margin-bottom: 4px;\n",
              "    }\n",
              "\n",
              "    [theme=dark] .colab-df-convert {\n",
              "      background-color: #3B4455;\n",
              "      fill: #D2E3FC;\n",
              "    }\n",
              "\n",
              "    [theme=dark] .colab-df-convert:hover {\n",
              "      background-color: #434B5C;\n",
              "      box-shadow: 0px 1px 3px 1px rgba(0, 0, 0, 0.15);\n",
              "      filter: drop-shadow(0px 1px 2px rgba(0, 0, 0, 0.3));\n",
              "      fill: #FFFFFF;\n",
              "    }\n",
              "  </style>\n",
              "\n",
              "    <script>\n",
              "      const buttonEl =\n",
              "        document.querySelector('#df-cf02052b-2ede-4601-8594-5fe44b6d9ca6 button.colab-df-convert');\n",
              "      buttonEl.style.display =\n",
              "        google.colab.kernel.accessAllowed ? 'block' : 'none';\n",
              "\n",
              "      async function convertToInteractive(key) {\n",
              "        const element = document.querySelector('#df-cf02052b-2ede-4601-8594-5fe44b6d9ca6');\n",
              "        const dataTable =\n",
              "          await google.colab.kernel.invokeFunction('convertToInteractive',\n",
              "                                                    [key], {});\n",
              "        if (!dataTable) return;\n",
              "\n",
              "        const docLinkHtml = 'Like what you see? Visit the ' +\n",
              "          '<a target=\"_blank\" href=https://colab.research.google.com/notebooks/data_table.ipynb>data table notebook</a>'\n",
              "          + ' to learn more about interactive tables.';\n",
              "        element.innerHTML = '';\n",
              "        dataTable['output_type'] = 'display_data';\n",
              "        await google.colab.output.renderOutput(dataTable, element);\n",
              "        const docLink = document.createElement('div');\n",
              "        docLink.innerHTML = docLinkHtml;\n",
              "        element.appendChild(docLink);\n",
              "      }\n",
              "    </script>\n",
              "  </div>\n",
              "\n",
              "\n",
              "<div id=\"df-576523dc-d255-4c26-9241-f3968abeac12\">\n",
              "  <button class=\"colab-df-quickchart\" onclick=\"quickchart('df-576523dc-d255-4c26-9241-f3968abeac12')\"\n",
              "            title=\"Suggest charts\"\n",
              "            style=\"display:none;\">\n",
              "\n",
              "<svg xmlns=\"http://www.w3.org/2000/svg\" height=\"24px\"viewBox=\"0 0 24 24\"\n",
              "     width=\"24px\">\n",
              "    <g>\n",
              "        <path d=\"M19 3H5c-1.1 0-2 .9-2 2v14c0 1.1.9 2 2 2h14c1.1 0 2-.9 2-2V5c0-1.1-.9-2-2-2zM9 17H7v-7h2v7zm4 0h-2V7h2v10zm4 0h-2v-4h2v4z\"/>\n",
              "    </g>\n",
              "</svg>\n",
              "  </button>\n",
              "\n",
              "<style>\n",
              "  .colab-df-quickchart {\n",
              "      --bg-color: #E8F0FE;\n",
              "      --fill-color: #1967D2;\n",
              "      --hover-bg-color: #E2EBFA;\n",
              "      --hover-fill-color: #174EA6;\n",
              "      --disabled-fill-color: #AAA;\n",
              "      --disabled-bg-color: #DDD;\n",
              "  }\n",
              "\n",
              "  [theme=dark] .colab-df-quickchart {\n",
              "      --bg-color: #3B4455;\n",
              "      --fill-color: #D2E3FC;\n",
              "      --hover-bg-color: #434B5C;\n",
              "      --hover-fill-color: #FFFFFF;\n",
              "      --disabled-bg-color: #3B4455;\n",
              "      --disabled-fill-color: #666;\n",
              "  }\n",
              "\n",
              "  .colab-df-quickchart {\n",
              "    background-color: var(--bg-color);\n",
              "    border: none;\n",
              "    border-radius: 50%;\n",
              "    cursor: pointer;\n",
              "    display: none;\n",
              "    fill: var(--fill-color);\n",
              "    height: 32px;\n",
              "    padding: 0;\n",
              "    width: 32px;\n",
              "  }\n",
              "\n",
              "  .colab-df-quickchart:hover {\n",
              "    background-color: var(--hover-bg-color);\n",
              "    box-shadow: 0 1px 2px rgba(60, 64, 67, 0.3), 0 1px 3px 1px rgba(60, 64, 67, 0.15);\n",
              "    fill: var(--button-hover-fill-color);\n",
              "  }\n",
              "\n",
              "  .colab-df-quickchart-complete:disabled,\n",
              "  .colab-df-quickchart-complete:disabled:hover {\n",
              "    background-color: var(--disabled-bg-color);\n",
              "    fill: var(--disabled-fill-color);\n",
              "    box-shadow: none;\n",
              "  }\n",
              "\n",
              "  .colab-df-spinner {\n",
              "    border: 2px solid var(--fill-color);\n",
              "    border-color: transparent;\n",
              "    border-bottom-color: var(--fill-color);\n",
              "    animation:\n",
              "      spin 1s steps(1) infinite;\n",
              "  }\n",
              "\n",
              "  @keyframes spin {\n",
              "    0% {\n",
              "      border-color: transparent;\n",
              "      border-bottom-color: var(--fill-color);\n",
              "      border-left-color: var(--fill-color);\n",
              "    }\n",
              "    20% {\n",
              "      border-color: transparent;\n",
              "      border-left-color: var(--fill-color);\n",
              "      border-top-color: var(--fill-color);\n",
              "    }\n",
              "    30% {\n",
              "      border-color: transparent;\n",
              "      border-left-color: var(--fill-color);\n",
              "      border-top-color: var(--fill-color);\n",
              "      border-right-color: var(--fill-color);\n",
              "    }\n",
              "    40% {\n",
              "      border-color: transparent;\n",
              "      border-right-color: var(--fill-color);\n",
              "      border-top-color: var(--fill-color);\n",
              "    }\n",
              "    60% {\n",
              "      border-color: transparent;\n",
              "      border-right-color: var(--fill-color);\n",
              "    }\n",
              "    80% {\n",
              "      border-color: transparent;\n",
              "      border-right-color: var(--fill-color);\n",
              "      border-bottom-color: var(--fill-color);\n",
              "    }\n",
              "    90% {\n",
              "      border-color: transparent;\n",
              "      border-bottom-color: var(--fill-color);\n",
              "    }\n",
              "  }\n",
              "</style>\n",
              "\n",
              "  <script>\n",
              "    async function quickchart(key) {\n",
              "      const quickchartButtonEl =\n",
              "        document.querySelector('#' + key + ' button');\n",
              "      quickchartButtonEl.disabled = true;  // To prevent multiple clicks.\n",
              "      quickchartButtonEl.classList.add('colab-df-spinner');\n",
              "      try {\n",
              "        const charts = await google.colab.kernel.invokeFunction(\n",
              "            'suggestCharts', [key], {});\n",
              "      } catch (error) {\n",
              "        console.error('Error during call to suggestCharts:', error);\n",
              "      }\n",
              "      quickchartButtonEl.classList.remove('colab-df-spinner');\n",
              "      quickchartButtonEl.classList.add('colab-df-quickchart-complete');\n",
              "    }\n",
              "    (() => {\n",
              "      let quickchartButtonEl =\n",
              "        document.querySelector('#df-576523dc-d255-4c26-9241-f3968abeac12 button');\n",
              "      quickchartButtonEl.style.display =\n",
              "        google.colab.kernel.accessAllowed ? 'block' : 'none';\n",
              "    })();\n",
              "  </script>\n",
              "</div>\n",
              "    </div>\n",
              "  </div>\n"
            ],
            "application/vnd.google.colaboratory.intrinsic+json": {
              "type": "dataframe",
              "variable_name": "relations_1_df",
              "summary": "{\n  \"name\": \"relations_1_df\",\n  \"rows\": 142,\n  \"fields\": [\n    {\n      \"column\": 0,\n      \"properties\": {\n        \"dtype\": \"category\",\n        \"num_unique_values\": 9,\n        \"samples\": [\n          \"Policemen\",\n          \"officers\",\n          \"Police\"\n        ],\n        \"semantic_type\": \"\",\n        \"description\": \"\"\n      }\n    },\n    {\n      \"column\": 1,\n      \"properties\": {\n        \"dtype\": \"string\",\n        \"num_unique_values\": 80,\n        \"samples\": [\n          \"special\",\n          \"popular\",\n          \"executive\"\n        ],\n        \"semantic_type\": \"\",\n        \"description\": \"\"\n      }\n    }\n  ]\n}"
            }
          },
          "metadata": {},
          "execution_count": 136
        }
      ]
    },
    {
      "cell_type": "code",
      "source": [
        "# To save the DataFrame to a CSV file\n",
        "relations_1_df.to_csv('relations_1_output.csv', index=False)\n"
      ],
      "metadata": {
        "id": "HCeAdXNMqGv1"
      },
      "execution_count": null,
      "outputs": []
    },
    {
      "cell_type": "code",
      "source": [
        "#number of relations I got\n",
        "number_of_relations_1_df = len(relations_1_df)\n",
        "print(\"Number of relations found:\", number_of_relations_1_df)\n"
      ],
      "metadata": {
        "colab": {
          "base_uri": "https://localhost:8080/"
        },
        "id": "z-h7KsFajJ6k",
        "outputId": "38ad36b8-1596-455b-b2f8-aefee6fc9eea"
      },
      "execution_count": null,
      "outputs": [
        {
          "output_type": "stream",
          "name": "stdout",
          "text": [
            "Number of relations found: 142\n"
          ]
        }
      ]
    },
    {
      "cell_type": "code",
      "source": [
        "#Child_relation [1] - extracting matching sentences\n",
        "'''\n",
        "def find_keyword_adjective_relations(df, sentence, keywords):\n",
        "    # Create a list to store matching sentences\n",
        "    matching_sentences = []\n",
        "    # Iterate over non-null sentences\n",
        "    for text in df[sentence].dropna():\n",
        "        doc = nlp(str(text))\n",
        "        found_relation = False\n",
        "        for token in doc:\n",
        "            if token.text in keywords_police_new and token.pos_ == 'NOUN':  # Check if the token is a keyword and a noun\n",
        "                for child in token.children:\n",
        "                    if child.dep_ == 'amod' and child.pos_ == 'ADJ':  # Check if the child is an adjective modifying the noun\n",
        "                        matching_sentences.append(text)  # Add the sentence to the list\n",
        "                        found_relation = True  # Mark that a relation was found\n",
        "                        break  # Stop checking more children once a match is found\n",
        "            if found_relation:\n",
        "                break  # Stop processing the sentence further if a relation is found\n",
        "\n",
        "    # Create a DataFrame from the list of matching sentences\n",
        "    return pd.DataFrame(matching_sentences, columns=[sentence])\n",
        "\n",
        "# List of keywords\n",
        "keywords_police_new = ['sheriff', 'Sheriff', 'Sheriffs','SHERIFF', 'police', 'Police', 'POLICE',  'policeman', 'Policeman', 'POLICEMAN', 'policemen', 'Policemen', 'POLICEMEN', 'officer', 'officers', 'Officer', 'OFFICER', 'OFFICERS', 'lawman', 'lawmen','LAWMAN', 'LAWMEN']\n",
        "\n",
        "# df\n",
        "relations_df = find_keyword_adjective_relations(df, 'sentence', keywords_police_new)\n",
        "\n",
        "# Export the DataFrame to a CSV file\n",
        "relations_df.to_csv('sentences_with_relations.csv', index=False)\n",
        "\n"
      ],
      "metadata": {
        "id": "fEJWtN5Ckz1i"
      },
      "execution_count": null,
      "outputs": []
    },
    {
      "cell_type": "code",
      "source": [
        "from spacy import displacy"
      ],
      "metadata": {
        "id": "VM00mfETc4Lb"
      },
      "execution_count": null,
      "outputs": []
    },
    {
      "cell_type": "code",
      "source": [
        "#function to visualize\n",
        "'''\n",
        "def find_and_visualize_relations(df, sentence, keywords_police_new):\n",
        "    docs_to_visualize = []\n",
        "    for text in df[sentence]:\n",
        "        if pd.isnull(text):\n",
        "            continue\n",
        "        doc = nlp(text)\n",
        "        for token in doc:\n",
        "            if token.text in keywords_police_new and token.pos_ == 'NOUN':\n",
        "                for child in token.children:\n",
        "                    if child.pos_ == 'ADJ':\n",
        "                        docs_to_visualize.append(doc)\n",
        "                        break\n",
        "\n",
        "    return docs_to_visualize\n",
        "\n",
        "df = cleaned_data\n",
        "keywords_police_new = ['sheriff', 'Sheriff', 'Sheriffs','SHERIFF', 'police', 'Police', 'POLICE',  'policeman', 'Policeman', 'POLICEMAN', 'policemen', 'Policemen', 'POLICEMEN', 'officer', 'officers', 'Officer', 'OFFICER', 'OFFICERS', 'lawman', 'lawmen','LAWMAN', 'LAWMEN']\n",
        "\n",
        "# tree\n",
        "def visualize_dependency_trees(docs, num_trees=1):\n",
        "    for doc in docs[:num_trees]:\n",
        "        displacy.render(doc, style='dep', options={'distance': 100})\n",
        "\n",
        "\n",
        "docs_to_visualize = find_and_visualize_relations(df, 'sentence', keywords_police_new)\n",
        "\n",
        "# visualize\n",
        "visualize_dependency_trees(docs_to_visualize, num_trees= 4)\n"
      ],
      "metadata": {
        "id": "ZN9F22AWclt2"
      },
      "execution_count": null,
      "outputs": []
    },
    {
      "cell_type": "code",
      "source": [
        "# direct & indirect relations\n",
        "\n",
        "def find_keyword_adjective_relations(df, sentence, keywords_police_new):\n",
        "    # Normalize keywords to lowercase\n",
        "    #keywords = set(keyword.lower() for keyword in keywords_police_new)\n",
        "    relations = []\n",
        "\n",
        "    for text in df[sentence].dropna():\n",
        "        #doc = nlp(text.lower())\n",
        "        doc = nlp(text)\n",
        "        for token in doc:\n",
        "            if token.text in keywords_police_new and token.pos_ == 'NOUN':\n",
        "                # Direct adjectival modifiers\n",
        "                for child in token.children:\n",
        "                    if child.dep_ == 'amod' and child.pos_ == 'ADJ':\n",
        "                        relations.append({'noun': token.text, 'adjective': child.text, 'sentence': text})\n",
        "\n",
        "                # Indirect relationships, via a shared parent\n",
        "                if token.head.pos_ in ['NOUN', 'VERB']:\n",
        "                    for sibling in token.head.children:\n",
        "                        if sibling.dep_ == 'amod' and sibling.pos_ == 'ADJ' and sibling != token:\n",
        "                            relations.append({'noun': token.text, 'adjective': sibling.text, 'sentence': text})\n",
        "\n",
        "                # Adjectives connected via conjunction to the noun\n",
        "                for possible_adj in token.conjuncts:\n",
        "                    if possible_adj.pos_ == 'ADJ':\n",
        "                        relations.append({'noun': token.text, 'adjective': possible_adj.text, 'sentence': text})\n",
        "\n",
        "                # Adjectives linked to the noun through an auxiliary verb\n",
        "                for adj in token.children:\n",
        "                    if adj.dep_ == 'acomp' and adj.pos_ == 'ADJ':\n",
        "                        aux = [child.text for child in adj.children if child.dep_ == 'aux']\n",
        "                        if aux:\n",
        "                            relations.append({'noun': token.text, 'auxiliary': aux[0], 'adjective': adj.text, 'sentence': text})\n",
        "\n",
        "    return pd.DataFrame(relations)\n",
        "\n",
        "# New Police Keywords\n",
        "keywords_police_new = ['sheriff', 'Sheriff', 'Sheriffs','SHERIFF', 'police', 'Police', 'POLICE',  'policeman', 'Policeman', 'POLICEMAN', 'policemen', 'Policemen', 'POLICEMEN', 'officer', 'officers', 'Officer', 'OFFICER', 'OFFICERS', 'lawman', 'lawmen','LAWMAN', 'LAWMEN']\n",
        "\n",
        "# relations_df\n",
        "relations_df = find_keyword_adjective_relations(df, 'sentence', keywords_police_new)\n",
        "\n",
        "# output\n",
        "relations_df.to_csv('relations_all.csv')\n",
        "\n",
        "# heads\n",
        "print(relations_df.head())\n"
      ],
      "metadata": {
        "colab": {
          "base_uri": "https://localhost:8080/"
        },
        "id": "EulTp673ODOo",
        "outputId": "584745c5-7b5c-407e-c1e6-002343684176"
      },
      "execution_count": null,
      "outputs": [
        {
          "output_type": "stream",
          "name": "stdout",
          "text": [
            "       noun adjective                                           sentence\n",
            "0    police   popular  A negro by the name of Dixon, under very provo...\n",
            "1   officer   popular  A negro by the name of Dixon, under very provo...\n",
            "2  officers     local  Two Texas national guard companies were ordere...\n",
            "3   sheriff      dead  The dead sheriff was only recently mar tions.5...\n",
            "4    police     local  CRIME ORGY IS CONFESSED BY NEGRO Eight Murders...\n"
          ]
        }
      ]
    },
    {
      "cell_type": "code",
      "source": [
        "#sentiment_analysis"
      ],
      "metadata": {
        "id": "Iq3h_7IMvK9w"
      },
      "execution_count": null,
      "outputs": []
    },
    {
      "cell_type": "code",
      "source": [
        "pip install spacy textblob nltk\n"
      ],
      "metadata": {
        "colab": {
          "base_uri": "https://localhost:8080/"
        },
        "id": "9SBsawNyvhXX",
        "outputId": "dbf86753-d75e-4bff-abac-e87dc9da41a5"
      },
      "execution_count": null,
      "outputs": [
        {
          "output_type": "stream",
          "name": "stdout",
          "text": [
            "Requirement already satisfied: spacy in /usr/local/lib/python3.10/dist-packages (3.7.4)\n",
            "Requirement already satisfied: textblob in /usr/local/lib/python3.10/dist-packages (0.17.1)\n",
            "Requirement already satisfied: nltk in /usr/local/lib/python3.10/dist-packages (3.8.1)\n",
            "Requirement already satisfied: spacy-legacy<3.1.0,>=3.0.11 in /usr/local/lib/python3.10/dist-packages (from spacy) (3.0.12)\n",
            "Requirement already satisfied: spacy-loggers<2.0.0,>=1.0.0 in /usr/local/lib/python3.10/dist-packages (from spacy) (1.0.5)\n",
            "Requirement already satisfied: murmurhash<1.1.0,>=0.28.0 in /usr/local/lib/python3.10/dist-packages (from spacy) (1.0.10)\n",
            "Requirement already satisfied: cymem<2.1.0,>=2.0.2 in /usr/local/lib/python3.10/dist-packages (from spacy) (2.0.8)\n",
            "Requirement already satisfied: preshed<3.1.0,>=3.0.2 in /usr/local/lib/python3.10/dist-packages (from spacy) (3.0.9)\n",
            "Requirement already satisfied: thinc<8.3.0,>=8.2.2 in /usr/local/lib/python3.10/dist-packages (from spacy) (8.2.3)\n",
            "Requirement already satisfied: wasabi<1.2.0,>=0.9.1 in /usr/local/lib/python3.10/dist-packages (from spacy) (1.1.2)\n",
            "Requirement already satisfied: srsly<3.0.0,>=2.4.3 in /usr/local/lib/python3.10/dist-packages (from spacy) (2.4.8)\n",
            "Requirement already satisfied: catalogue<2.1.0,>=2.0.6 in /usr/local/lib/python3.10/dist-packages (from spacy) (2.0.10)\n",
            "Requirement already satisfied: weasel<0.4.0,>=0.1.0 in /usr/local/lib/python3.10/dist-packages (from spacy) (0.3.4)\n",
            "Requirement already satisfied: typer<0.10.0,>=0.3.0 in /usr/local/lib/python3.10/dist-packages (from spacy) (0.9.4)\n",
            "Requirement already satisfied: smart-open<7.0.0,>=5.2.1 in /usr/local/lib/python3.10/dist-packages (from spacy) (6.4.0)\n",
            "Requirement already satisfied: tqdm<5.0.0,>=4.38.0 in /usr/local/lib/python3.10/dist-packages (from spacy) (4.66.2)\n",
            "Requirement already satisfied: requests<3.0.0,>=2.13.0 in /usr/local/lib/python3.10/dist-packages (from spacy) (2.31.0)\n",
            "Requirement already satisfied: pydantic!=1.8,!=1.8.1,<3.0.0,>=1.7.4 in /usr/local/lib/python3.10/dist-packages (from spacy) (2.6.4)\n",
            "Requirement already satisfied: jinja2 in /usr/local/lib/python3.10/dist-packages (from spacy) (3.1.3)\n",
            "Requirement already satisfied: setuptools in /usr/local/lib/python3.10/dist-packages (from spacy) (67.7.2)\n",
            "Requirement already satisfied: packaging>=20.0 in /usr/local/lib/python3.10/dist-packages (from spacy) (24.0)\n",
            "Requirement already satisfied: langcodes<4.0.0,>=3.2.0 in /usr/local/lib/python3.10/dist-packages (from spacy) (3.3.0)\n",
            "Requirement already satisfied: numpy>=1.19.0 in /usr/local/lib/python3.10/dist-packages (from spacy) (1.25.2)\n",
            "Requirement already satisfied: click in /usr/local/lib/python3.10/dist-packages (from nltk) (8.1.7)\n",
            "Requirement already satisfied: joblib in /usr/local/lib/python3.10/dist-packages (from nltk) (1.4.0)\n",
            "Requirement already satisfied: regex>=2021.8.3 in /usr/local/lib/python3.10/dist-packages (from nltk) (2023.12.25)\n",
            "Requirement already satisfied: annotated-types>=0.4.0 in /usr/local/lib/python3.10/dist-packages (from pydantic!=1.8,!=1.8.1,<3.0.0,>=1.7.4->spacy) (0.6.0)\n",
            "Requirement already satisfied: pydantic-core==2.16.3 in /usr/local/lib/python3.10/dist-packages (from pydantic!=1.8,!=1.8.1,<3.0.0,>=1.7.4->spacy) (2.16.3)\n",
            "Requirement already satisfied: typing-extensions>=4.6.1 in /usr/local/lib/python3.10/dist-packages (from pydantic!=1.8,!=1.8.1,<3.0.0,>=1.7.4->spacy) (4.11.0)\n",
            "Requirement already satisfied: charset-normalizer<4,>=2 in /usr/local/lib/python3.10/dist-packages (from requests<3.0.0,>=2.13.0->spacy) (3.3.2)\n",
            "Requirement already satisfied: idna<4,>=2.5 in /usr/local/lib/python3.10/dist-packages (from requests<3.0.0,>=2.13.0->spacy) (3.6)\n",
            "Requirement already satisfied: urllib3<3,>=1.21.1 in /usr/local/lib/python3.10/dist-packages (from requests<3.0.0,>=2.13.0->spacy) (2.0.7)\n",
            "Requirement already satisfied: certifi>=2017.4.17 in /usr/local/lib/python3.10/dist-packages (from requests<3.0.0,>=2.13.0->spacy) (2024.2.2)\n",
            "Requirement already satisfied: blis<0.8.0,>=0.7.8 in /usr/local/lib/python3.10/dist-packages (from thinc<8.3.0,>=8.2.2->spacy) (0.7.11)\n",
            "Requirement already satisfied: confection<1.0.0,>=0.0.1 in /usr/local/lib/python3.10/dist-packages (from thinc<8.3.0,>=8.2.2->spacy) (0.1.4)\n",
            "Requirement already satisfied: cloudpathlib<0.17.0,>=0.7.0 in /usr/local/lib/python3.10/dist-packages (from weasel<0.4.0,>=0.1.0->spacy) (0.16.0)\n",
            "Requirement already satisfied: MarkupSafe>=2.0 in /usr/local/lib/python3.10/dist-packages (from jinja2->spacy) (2.1.5)\n"
          ]
        }
      ]
    },
    {
      "cell_type": "code",
      "source": [
        "import spacy\n",
        "nlp = spacy.load(\"en_core_web_sm\")\n",
        "import nltk\n",
        "nltk.download('vader_lexicon')\n"
      ],
      "metadata": {
        "colab": {
          "base_uri": "https://localhost:8080/"
        },
        "id": "ycusxZpkvk33",
        "outputId": "b028f2ab-541d-478b-e58c-2ee73deda31c"
      },
      "execution_count": null,
      "outputs": [
        {
          "output_type": "stream",
          "name": "stderr",
          "text": [
            "[nltk_data] Downloading package vader_lexicon to /root/nltk_data...\n",
            "[nltk_data]   Package vader_lexicon is already up-to-date!\n"
          ]
        },
        {
          "output_type": "execute_result",
          "data": {
            "text/plain": [
              "True"
            ]
          },
          "metadata": {},
          "execution_count": 182
        }
      ]
    },
    {
      "cell_type": "code",
      "source": [
        "from nltk.sentiment import SentimentIntensityAnalyzer\n",
        "sia = SentimentIntensityAnalyzer()\n"
      ],
      "metadata": {
        "id": "q6K5-OZ0vovR"
      },
      "execution_count": null,
      "outputs": []
    },
    {
      "cell_type": "code",
      "source": [
        "def analyze_sentiment(adjectives):\n",
        "    sentiment_scores = [sia.polarity_scores(adj)['compound'] for adj in adjectives]\n",
        "    return sentiment_scores\n",
        "\n",
        "#sentiment\n",
        "relations_df['sentiment_score'] = analyze_sentiment(relations_df['adjective'].tolist())\n"
      ],
      "metadata": {
        "id": "xUoojo2CvsrS"
      },
      "execution_count": null,
      "outputs": []
    },
    {
      "cell_type": "code",
      "source": [
        "average_sentiment_by_noun = relations_df.groupby('noun')['sentiment_score'].mean()\n",
        "\n",
        "print(average_sentiment_by_noun)\n"
      ],
      "metadata": {
        "colab": {
          "base_uri": "https://localhost:8080/"
        },
        "id": "GFnqeknCvycS",
        "outputId": "87eca4ea-a6d6-43b9-dee4-47f338a51a27"
      },
      "execution_count": null,
      "outputs": [
        {
          "output_type": "stream",
          "name": "stdout",
          "text": [
            "noun\n",
            "Police      -0.350933\n",
            "officer      0.114813\n",
            "officers     0.018308\n",
            "police       0.006406\n",
            "policeman    0.200950\n",
            "policemen    0.116075\n",
            "sheriff      0.048436\n",
            "Name: sentiment_score, dtype: float64\n"
          ]
        }
      ]
    },
    {
      "cell_type": "code",
      "source": [
        "# Save\n",
        "relations_df.to_csv('sentiment_analysis_results.csv', index=False)\n"
      ],
      "metadata": {
        "id": "vwXlqO5TwGo2"
      },
      "execution_count": null,
      "outputs": []
    },
    {
      "cell_type": "code",
      "source": [
        "import matplotlib.pyplot as plt\n",
        "import seaborn as sns\n"
      ],
      "metadata": {
        "id": "neLaCPjdwx8K"
      },
      "execution_count": null,
      "outputs": []
    },
    {
      "cell_type": "code",
      "source": [
        "plt.figure(figsize=(10, 6))\n",
        "sns.histplot(relations_df['sentiment_score'], bins=30, kde=False, color='blue')\n",
        "plt.title('Distribution of Sentiment Scores')\n",
        "plt.xlabel('Sentiment Score')\n",
        "plt.ylabel('Frequency')\n",
        "plt.show()\n"
      ],
      "metadata": {
        "colab": {
          "base_uri": "https://localhost:8080/",
          "height": 564
        },
        "id": "NVqg9H2xxLUk",
        "outputId": "5506b3ae-8d02-401f-fd6c-8610f24f96b8"
      },
      "execution_count": null,
      "outputs": [
        {
          "output_type": "display_data",
          "data": {
            "text/plain": [
              "<Figure size 1000x600 with 1 Axes>"
            ],
            "image/png": "[encoded data removed]"
          },
          "metadata": {}
        }
      ]
    },
    {
      "cell_type": "code",
      "source": [
        "'''\n",
        "plt.figure(figsize=(12, 8))\n",
        "sns.scatterplot(data=relations_df, x='noun', y='sentiment_score', hue='adjective')\n",
        "plt.title('Sentiment Scores by Noun and Adjective')\n",
        "plt.xlabel('Noun')\n",
        "plt.ylabel('Sentiment Score')\n",
        "plt.xticks(rotation=45)\n",
        "plt.legend(title='Adjective')\n",
        "plt.show()\n"
      ],
      "metadata": {
        "colab": {
          "base_uri": "https://localhost:8080/",
          "height": 105
        },
        "id": "rdd1NjhDxOyg",
        "outputId": "def8f039-2ba4-4030-b6ab-eb9f15f3ff6a"
      },
      "execution_count": null,
      "outputs": [
        {
          "output_type": "error",
          "ename": "SyntaxError",
          "evalue": "incomplete input (<ipython-input-153-7b91428b0779>, line 1)",
          "traceback": [
            "\u001b[0;36m  File \u001b[0;32m\"<ipython-input-153-7b91428b0779>\"\u001b[0;36m, line \u001b[0;32m1\u001b[0m\n\u001b[0;31m    '''\u001b[0m\n\u001b[0m    ^\u001b[0m\n\u001b[0;31mSyntaxError\u001b[0m\u001b[0;31m:\u001b[0m incomplete input\n"
          ]
        }
      ]
    }
  ]
}