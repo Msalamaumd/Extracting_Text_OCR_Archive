{
  "nbformat": 4,
  "nbformat_minor": 0,
  "metadata": {
    "colab": {
      "provenance": [],
      "mount_file_id": "1RyXwwNm4wDrZg1MrQuF_Esfzyl02b6-w",
      "authorship_tag": "ABX9TyPE8Jzfc424evV2OGBEeQsS",
      "include_colab_link": true
    },
    "kernelspec": {
      "name": "python3",
      "display_name": "Python 3"
    },
    "language_info": {
      "name": "python"
    }
  },
  "cells": [
    {
      "cell_type": "markdown",
      "metadata": {
        "id": "view-in-github",
        "colab_type": "text"
      },
      "source": [
        "<a href=\"https://colab.research.google.com/github/Msalamaumd/Extracting_Text_OCR_Archive/blob/main/Salama's_Extraction_Script.ipynb\" target=\"_parent\"><img src=\"https://colab.research.google.com/assets/colab-badge.svg\" alt=\"Open In Colab\"/></a>"
      ]
    },
    {
      "cell_type": "markdown",
      "source": [
        "**Reference **: https://www.educative.io/answers/how-to-extract-text-from-an-image-in-python\n"
      ],
      "metadata": {
        "id": "Yti3hfpn30Gd"
      }
    },
    {
      "cell_type": "code",
      "source": [
        "#This library is used for OCR [pytesseract]"
      ],
      "metadata": {
        "id": "LZ2RhRMG3693"
      },
      "execution_count": null,
      "outputs": []
    },
    {
      "cell_type": "code",
      "source": [
        "pip install pytesseract\n"
      ],
      "metadata": {
        "id": "cLpLX9864Agi",
        "colab": {
          "base_uri": "https://localhost:8080/"
        },
        "outputId": "e99488af-6208-4719-f4b6-c7e2555b5fc5"
      },
      "execution_count": null,
      "outputs": [
        {
          "output_type": "stream",
          "name": "stdout",
          "text": [
            "Collecting pytesseract\n",
            "  Downloading pytesseract-0.3.10-py3-none-any.whl (14 kB)\n",
            "Requirement already satisfied: packaging>=21.3 in /usr/local/lib/python3.10/dist-packages (from pytesseract) (24.0)\n",
            "Requirement already satisfied: Pillow>=8.0.0 in /usr/local/lib/python3.10/dist-packages (from pytesseract) (9.4.0)\n",
            "Installing collected packages: pytesseract\n",
            "Successfully installed pytesseract-0.3.10\n"
          ]
        }
      ]
    },
    {
      "cell_type": "code",
      "source": [
        "# This library is used image handling"
      ],
      "metadata": {
        "id": "yC5XSqKK4P8B"
      },
      "execution_count": null,
      "outputs": []
    },
    {
      "cell_type": "code",
      "source": [
        " pip install pillow"
      ],
      "metadata": {
        "colab": {
          "base_uri": "https://localhost:8080/"
        },
        "id": "NnUtfCM94Vys",
        "outputId": "04b8bdf3-eae3-45f1-bd96-371ef14c6cf0"
      },
      "execution_count": null,
      "outputs": [
        {
          "output_type": "stream",
          "name": "stdout",
          "text": [
            "Requirement already satisfied: pillow in /usr/local/lib/python3.10/dist-packages (9.4.0)\n"
          ]
        }
      ]
    },
    {
      "cell_type": "code",
      "source": [
        "#Tesseract OCR Engine: pytesseract requires a separate installation of the Tesseract OCR Engine. Since we are using Google Colab and not running Python on a Mac processor, I will download it here.\n"
      ],
      "metadata": {
        "id": "uUOM7WcR4YQ1"
      },
      "execution_count": null,
      "outputs": []
    },
    {
      "cell_type": "code",
      "source": [
        "!sudo apt install tesseract-ocr"
      ],
      "metadata": {
        "colab": {
          "base_uri": "https://localhost:8080/"
        },
        "id": "_P014bH04aCv",
        "outputId": "13ee6d1c-4042-43ff-8b1e-abfe959217a4"
      },
      "execution_count": null,
      "outputs": [
        {
          "output_type": "stream",
          "name": "stdout",
          "text": [
            "Reading package lists... Done\n",
            "Building dependency tree... Done\n",
            "Reading state information... Done\n",
            "The following additional packages will be installed:\n",
            "  tesseract-ocr-eng tesseract-ocr-osd\n",
            "The following NEW packages will be installed:\n",
            "  tesseract-ocr tesseract-ocr-eng tesseract-ocr-osd\n",
            "0 upgraded, 3 newly installed, 0 to remove and 45 not upgraded.\n",
            "Need to get 4,816 kB of archives.\n",
            "After this operation, 15.6 MB of additional disk space will be used.\n",
            "Get:1 http://archive.ubuntu.com/ubuntu jammy/universe amd64 tesseract-ocr-eng all 1:4.00~git30-7274cfa-1.1 [1,591 kB]\n",
            "Get:2 http://archive.ubuntu.com/ubuntu jammy/universe amd64 tesseract-ocr-osd all 1:4.00~git30-7274cfa-1.1 [2,990 kB]\n",
            "Get:3 http://archive.ubuntu.com/ubuntu jammy/universe amd64 tesseract-ocr amd64 4.1.1-2.1build1 [236 kB]\n",
            "Fetched 4,816 kB in 0s (13.7 MB/s)\n",
            "debconf: unable to initialize frontend: Dialog\n",
            "debconf: (No usable dialog-like program is installed, so the dialog based frontend cannot be used. at /usr/share/perl5/Debconf/FrontEnd/Dialog.pm line 78, <> line 3.)\n",
            "debconf: falling back to frontend: Readline\n",
            "debconf: unable to initialize frontend: Readline\n",
            "debconf: (This frontend requires a controlling tty.)\n",
            "debconf: falling back to frontend: Teletype\n",
            "dpkg-preconfigure: unable to re-open stdin: \n",
            "Selecting previously unselected package tesseract-ocr-eng.\n",
            "(Reading database ... 131015 files and directories currently installed.)\n",
            "Preparing to unpack .../tesseract-ocr-eng_1%3a4.00~git30-7274cfa-1.1_all.deb ...\n",
            "Unpacking tesseract-ocr-eng (1:4.00~git30-7274cfa-1.1) ...\n",
            "Selecting previously unselected package tesseract-ocr-osd.\n",
            "Preparing to unpack .../tesseract-ocr-osd_1%3a4.00~git30-7274cfa-1.1_all.deb ...\n",
            "Unpacking tesseract-ocr-osd (1:4.00~git30-7274cfa-1.1) ...\n",
            "Selecting previously unselected package tesseract-ocr.\n",
            "Preparing to unpack .../tesseract-ocr_4.1.1-2.1build1_amd64.deb ...\n",
            "Unpacking tesseract-ocr (4.1.1-2.1build1) ...\n",
            "Setting up tesseract-ocr-eng (1:4.00~git30-7274cfa-1.1) ...\n",
            "Setting up tesseract-ocr-osd (1:4.00~git30-7274cfa-1.1) ...\n",
            "Setting up tesseract-ocr (4.1.1-2.1build1) ...\n",
            "Processing triggers for man-db (2.10.2-1) ...\n"
          ]
        }
      ]
    },
    {
      "cell_type": "markdown",
      "source": [
        "#ExtractingJustTextFromOneImageOnly\n",
        "\n",
        "*   List item\n",
        "*   List item\n",
        "\n"
      ],
      "metadata": {
        "id": "PsQrhB-f4vXK"
      }
    },
    {
      "cell_type": "code",
      "source": [
        "#importing certain libraries to extract and handle text"
      ],
      "metadata": {
        "id": "9VUjPuAp4ddR"
      },
      "execution_count": null,
      "outputs": []
    },
    {
      "cell_type": "code",
      "source": [
        "import pytesseract\n",
        "from PIL import Image"
      ],
      "metadata": {
        "id": "vK2G8WGq4feU"
      },
      "execution_count": null,
      "outputs": []
    },
    {
      "cell_type": "code",
      "source": [
        "badlayout_1 = Image.open(\"/content/badlayout1.1.png\")\n"
      ],
      "metadata": {
        "colab": {
          "base_uri": "https://localhost:8080/",
          "height": 326
        },
        "id": "Rs-7VlTs4iZy",
        "outputId": "4cb750b5-3e45-45f4-b0aa-a47c1befc77e"
      },
      "execution_count": null,
      "outputs": [
        {
          "output_type": "error",
          "ename": "FileNotFoundError",
          "evalue": "[Errno 2] No such file or directory: '/content/badlayout1.1.png'",
          "traceback": [
            "\u001b[0;31m---------------------------------------------------------------------------\u001b[0m",
            "\u001b[0;31mFileNotFoundError\u001b[0m                         Traceback (most recent call last)",
            "\u001b[0;32m<ipython-input-12-8389911dc2b8>\u001b[0m in \u001b[0;36m<cell line: 1>\u001b[0;34m()\u001b[0m\n\u001b[0;32m----> 1\u001b[0;31m \u001b[0mbadlayout_1\u001b[0m \u001b[0;34m=\u001b[0m \u001b[0mImage\u001b[0m\u001b[0;34m.\u001b[0m\u001b[0mopen\u001b[0m\u001b[0;34m(\u001b[0m\u001b[0;34m\"/content/badlayout1.1.png\"\u001b[0m\u001b[0;34m)\u001b[0m\u001b[0;34m\u001b[0m\u001b[0;34m\u001b[0m\u001b[0m\n\u001b[0m",
            "\u001b[0;32m/usr/local/lib/python3.10/dist-packages/PIL/Image.py\u001b[0m in \u001b[0;36mopen\u001b[0;34m(fp, mode, formats)\u001b[0m\n\u001b[1;32m   3225\u001b[0m \u001b[0;34m\u001b[0m\u001b[0m\n\u001b[1;32m   3226\u001b[0m     \u001b[0;32mif\u001b[0m \u001b[0mfilename\u001b[0m\u001b[0;34m:\u001b[0m\u001b[0;34m\u001b[0m\u001b[0;34m\u001b[0m\u001b[0m\n\u001b[0;32m-> 3227\u001b[0;31m         \u001b[0mfp\u001b[0m \u001b[0;34m=\u001b[0m \u001b[0mbuiltins\u001b[0m\u001b[0;34m.\u001b[0m\u001b[0mopen\u001b[0m\u001b[0;34m(\u001b[0m\u001b[0mfilename\u001b[0m\u001b[0;34m,\u001b[0m \u001b[0;34m\"rb\"\u001b[0m\u001b[0;34m)\u001b[0m\u001b[0;34m\u001b[0m\u001b[0;34m\u001b[0m\u001b[0m\n\u001b[0m\u001b[1;32m   3228\u001b[0m         \u001b[0mexclusive_fp\u001b[0m \u001b[0;34m=\u001b[0m \u001b[0;32mTrue\u001b[0m\u001b[0;34m\u001b[0m\u001b[0;34m\u001b[0m\u001b[0m\n\u001b[1;32m   3229\u001b[0m \u001b[0;34m\u001b[0m\u001b[0m\n",
            "\u001b[0;31mFileNotFoundError\u001b[0m: [Errno 2] No such file or directory: '/content/badlayout1.1.png'"
          ]
        }
      ]
    },
    {
      "cell_type": "code",
      "source": [
        "#Perform OCR using pytesseract"
      ],
      "metadata": {
        "id": "0wBDsqiY4khc"
      },
      "execution_count": null,
      "outputs": []
    },
    {
      "cell_type": "code",
      "source": [
        "text = pytesseract.image_to_string(badlayout_1)"
      ],
      "metadata": {
        "id": "9NpFFc3-4mFS"
      },
      "execution_count": null,
      "outputs": []
    },
    {
      "cell_type": "code",
      "source": [
        "print(text)"
      ],
      "metadata": {
        "colab": {
          "base_uri": "https://localhost:8080/"
        },
        "id": "oQe5osNQ4nga",
        "outputId": "da33ec2b-7cd2-4979-c63e-e6a85f96b790"
      },
      "execution_count": null,
      "outputs": [
        {
          "output_type": "stream",
          "name": "stdout",
          "text": [
            "A-LYNCHING IN OHIO)\n",
            "\n",
            " \n",
            "\n",
            "‘Tue lynching of Ricuarp Dixon, col!\n",
            "ored, at Springfield, Ohio, Monday,\n",
            "March 7th, 1904, was @ dastardly exhi-\n",
            "ition of moh violence and it ename\n",
            "‘was accqmplished only through the\n",
            "connivance of- the authorities, who\n",
            "stood sworn to uphold the majesty of\n",
            "the Jaw. D:xon was charged with fat-\n",
            "ally shooting ANNA Corntn and Police-\n",
            "\n",
            "* man OnARLES OCLLIs.,\n",
            "\n",
            "‘That it was possible that such a wan-\n",
            "ton violation of the law should take\n",
            "place in a city the size of Springfield,\n",
            "Ohio, is astonishing and imdicates that\n",
            "\n",
            "- w reformation is needed in the manage-\n",
            "ment of the city’s affairs. Ohio hasan\n",
            "anti-lynching law and ithas been sus-\n",
            "\n",
            "~/ tained in all of its vital features by the\n",
            "courts, thanks to Hon. Harry C. Samira,\n",
            "\f\n"
          ]
        }
      ]
    },
    {
      "cell_type": "markdown",
      "source": [
        "#ExtractingTextFromMultipleImagesRouteOne"
      ],
      "metadata": {
        "id": "PfOlZgiu5LvU"
      }
    },
    {
      "cell_type": "code",
      "source": [
        "import pandas as pd\n"
      ],
      "metadata": {
        "id": "ZW7QZYmg5CXf"
      },
      "execution_count": null,
      "outputs": []
    },
    {
      "cell_type": "code",
      "source": [
        "\n",
        "# Function to extract text from multiple images and return a DataFrame\n",
        "def extract_texts(image_paths):\n",
        "    extracted_texts = []\n",
        "    filenames = []  # This will store the filenames to add to the DataFrame\n",
        "    for image_path in image_paths:\n",
        "        with Image.open(image_path) as img:\n",
        "            text = pytesseract.image_to_string(img)\n",
        "            extracted_texts.append(text)  # Append the extracted text to the list\n",
        "            filenames.append(image_path)  # Append the filename to the list\n",
        "    df = pd.DataFrame({\n",
        "        'filename': filenames,\n",
        "        'text': extracted_texts\n",
        "    })\n",
        "    return df\n",
        "\n",
        "# List of image paths\n",
        "image_paths = [\n",
        "    \"/content/badlayout1.1.png\",\"/content/badlayout4.1.png\",\"/content/badlayout4.5.png\"\n",
        "]\n",
        "\n",
        "# Calling the function and getting the DataFrame\n",
        "df_2 = extract_texts(image_paths)\n",
        "\n",
        "# Display the DataFrame\n",
        "print(df_2)\n",
        "\n",
        "# Save the DataFrame to a CSV file\n",
        "df_2.to_csv('extracted_texts.csv')\n",
        "\n"
      ],
      "metadata": {
        "colab": {
          "base_uri": "https://localhost:8080/"
        },
        "id": "eoaZwfqr5X7p",
        "outputId": "e7487747-b255-4471-f191-7b33407e1f0a"
      },
      "execution_count": null,
      "outputs": [
        {
          "output_type": "stream",
          "name": "stdout",
          "text": [
            "                    filename  \\\n",
            "0  /content/badlayout1.1.png   \n",
            "1  /content/badlayout4.1.png   \n",
            "2  /content/badlayout4.5.png   \n",
            "\n",
            "                                                text  \n",
            "0  A-LYNCHING IN OHIO)\\n\\n \\n\\n‘Tue lynching of R...  \n",
            "1  MOB LYNCHES NEGRO}\\nDESPITE GOVERNOR\\n\\nBlack ...  \n",
            "2    \\n   \\n      \\n \\n\\nhe rope to ha seo\\nHIRO ...  \n"
          ]
        }
      ]
    },
    {
      "cell_type": "markdown",
      "source": [
        "#CODE FOR QUICK CHECK"
      ],
      "metadata": {
        "id": "utmiiulh5--U"
      }
    },
    {
      "cell_type": "code",
      "source": [
        "\n",
        "\n",
        "text = pytesseract.image_to_string(Image.open(\"/content/badlayout1.1.png\"))\n",
        "print(\"Extracted Text:\", text)\n",
        "\n",
        "df = pd.DataFrame({'Extracted Text': [text]})\n",
        "print(\"DataFrame Output:\")\n",
        "print(df)\n"
      ],
      "metadata": {
        "colab": {
          "base_uri": "https://localhost:8080/",
          "height": 207
        },
        "id": "mB9YsscP5-tn",
        "outputId": "e0aedfba-4546-4034-b865-1debe9bf8def"
      },
      "execution_count": null,
      "outputs": [
        {
          "output_type": "error",
          "ename": "NameError",
          "evalue": "name 'pytesseract' is not defined",
          "traceback": [
            "\u001b[0;31m---------------------------------------------------------------------------\u001b[0m",
            "\u001b[0;31mNameError\u001b[0m                                 Traceback (most recent call last)",
            "\u001b[0;32m<ipython-input-1-f85acb3e686f>\u001b[0m in \u001b[0;36m<cell line: 1>\u001b[0;34m()\u001b[0m\n\u001b[0;32m----> 1\u001b[0;31m \u001b[0mtext\u001b[0m \u001b[0;34m=\u001b[0m \u001b[0mpytesseract\u001b[0m\u001b[0;34m.\u001b[0m\u001b[0mimage_to_string\u001b[0m\u001b[0;34m(\u001b[0m\u001b[0mImage\u001b[0m\u001b[0;34m.\u001b[0m\u001b[0mopen\u001b[0m\u001b[0;34m(\u001b[0m\u001b[0;34m\"/content/badlayout1.1.png\"\u001b[0m\u001b[0;34m)\u001b[0m\u001b[0;34m)\u001b[0m\u001b[0;34m\u001b[0m\u001b[0;34m\u001b[0m\u001b[0m\n\u001b[0m\u001b[1;32m      2\u001b[0m \u001b[0mprint\u001b[0m\u001b[0;34m(\u001b[0m\u001b[0;34m\"Extracted Text:\"\u001b[0m\u001b[0;34m,\u001b[0m \u001b[0mtext\u001b[0m\u001b[0;34m)\u001b[0m\u001b[0;34m\u001b[0m\u001b[0;34m\u001b[0m\u001b[0m\n\u001b[1;32m      3\u001b[0m \u001b[0;34m\u001b[0m\u001b[0m\n\u001b[1;32m      4\u001b[0m \u001b[0mdf\u001b[0m \u001b[0;34m=\u001b[0m \u001b[0mpd\u001b[0m\u001b[0;34m.\u001b[0m\u001b[0mDataFrame\u001b[0m\u001b[0;34m(\u001b[0m\u001b[0;34m{\u001b[0m\u001b[0;34m'Extracted Text'\u001b[0m\u001b[0;34m:\u001b[0m \u001b[0;34m[\u001b[0m\u001b[0mtext\u001b[0m\u001b[0;34m]\u001b[0m\u001b[0;34m}\u001b[0m\u001b[0;34m)\u001b[0m\u001b[0;34m\u001b[0m\u001b[0;34m\u001b[0m\u001b[0m\n\u001b[1;32m      5\u001b[0m \u001b[0mprint\u001b[0m\u001b[0;34m(\u001b[0m\u001b[0;34m\"DataFrame Output:\"\u001b[0m\u001b[0;34m)\u001b[0m\u001b[0;34m\u001b[0m\u001b[0;34m\u001b[0m\u001b[0m\n",
            "\u001b[0;31mNameError\u001b[0m: name 'pytesseract' is not defined"
          ]
        }
      ]
    },
    {
      "cell_type": "markdown",
      "source": [
        "#ExtractingTextFromMultipleImagesRouteTwo"
      ],
      "metadata": {
        "id": "49hY1G3R6Jr_"
      }
    },
    {
      "cell_type": "code",
      "source": [
        "import os"
      ],
      "metadata": {
        "id": "h6hRr21B6ORm"
      },
      "execution_count": null,
      "outputs": []
    },
    {
      "cell_type": "code",
      "source": [
        "def extract_text(image_paths):\n",
        "    extracted_texts = []\n",
        "    filenames = []\n",
        "    for image_path in image_paths:\n",
        "        with Image.open(image_path) as img:\n",
        "            text = pytesseract.image_to_string(img)\n",
        "        extracted_texts.append(text)\n",
        "        filenames.append(image_path)\n",
        "    df_2= pd.DataFrame({'filename': filenames, 'text': extracted_texts})\n",
        "    return df_2\n",
        "\n",
        "# Specify the directory containing images\n",
        "directory_path = '/content/drive/MyDrive/UMD-Phd /Second Year - Spring 2024/Prof.Rob - Work Load/Bad Layout Files'\n",
        "\n",
        "# List all image files in the directory\n",
        "image_paths = [os.path.join(directory_path, file) for file in os.listdir(directory_path) if file.endswith(('.png', '.jpg', '.jpeg'))]\n",
        "\n",
        "# Extract text and create DataFrame\n",
        "df_2 = extract_text(image_paths)\n",
        "\n",
        "# Save\n",
        "print(df_2.head())\n",
        "\n",
        "df_2.to_csv('extracted_texts_final.csv')"
      ],
      "metadata": {
        "colab": {
          "base_uri": "https://localhost:8080/"
        },
        "id": "hVfVB6p26Vqu",
        "outputId": "7f072b85-8676-4338-f1bd-0aa0e39e956b"
      },
      "execution_count": null,
      "outputs": [
        {
          "output_type": "stream",
          "name": "stdout",
          "text": [
            "                                            filename  \\\n",
            "0  /content/drive/MyDrive/UMD-Phd /Second Year - ...   \n",
            "1  /content/drive/MyDrive/UMD-Phd /Second Year - ...   \n",
            "2  /content/drive/MyDrive/UMD-Phd /Second Year - ...   \n",
            "3  /content/drive/MyDrive/UMD-Phd /Second Year - ...   \n",
            "4  /content/drive/MyDrive/UMD-Phd /Second Year - ...   \n",
            "\n",
            "                                                text  \n",
            "0  A-LYNCHING IN OHIO)\\n\\n \\n\\n‘Tue lynching of R...  \n",
            "1  ‘who was the champion of the measure. |\\nWhile...  \n",
            "2   \\n\\n“Trissansa ote net. rate)\\nDelevan Monday...  \n",
            "3   \\n\\n     \\n\\nhatiniuciated the crowd and ia i...  \n",
            "4  Ap, DUMMY DARKEY::\\nThescaporteasivy thin moru...  \n"
          ]
        }
      ]
    },
    {
      "cell_type": "markdown",
      "source": [
        "#Now, I need to joing the extracted data with the metadata of the original tex"
      ],
      "metadata": {
        "id": "xVm7QAb1LcKW"
      }
    },
    {
      "cell_type": "code",
      "source": [
        "'''\n",
        "import pandas as pd\n",
        "\n",
        "# Load a DataFrame from a CSV file\n",
        "df_old = pd.read_csv('/content/Bad Layout Index - Bad Layout Index.csv')\n",
        "print(\"Original DataFrame:\")\n",
        "print(df_old.head())\n"
      ],
      "metadata": {
        "colab": {
          "base_uri": "https://localhost:8080/",
          "height": 105
        },
        "id": "owf6vcN_Mubt",
        "outputId": "83115462-4bef-4e57-a8cf-88626839f5be"
      },
      "execution_count": null,
      "outputs": [
        {
          "output_type": "error",
          "ename": "SyntaxError",
          "evalue": "incomplete input (<ipython-input-24-37c97577c0dc>, line 1)",
          "traceback": [
            "\u001b[0;36m  File \u001b[0;32m\"<ipython-input-24-37c97577c0dc>\"\u001b[0;36m, line \u001b[0;32m1\u001b[0m\n\u001b[0;31m    '''\u001b[0m\n\u001b[0m    ^\u001b[0m\n\u001b[0;31mSyntaxError\u001b[0m\u001b[0;31m:\u001b[0m incomplete input\n"
          ]
        }
      ]
    },
    {
      "cell_type": "code",
      "source": [
        "'''\n",
        "# Add a new column 'index' with sequential numbers starting from 0\n",
        "df_old['index'] = range(len(df_old))\n",
        "print(\"DataFrame with New Index Column:\")\n",
        "print(df_old.head())\n"
      ],
      "metadata": {
        "colab": {
          "base_uri": "https://localhost:8080/",
          "height": 105
        },
        "id": "VPN5DpedNJM9",
        "outputId": "f7eec263-659c-4b53-b8d3-3294c8f228ef"
      },
      "execution_count": null,
      "outputs": [
        {
          "output_type": "error",
          "ename": "SyntaxError",
          "evalue": "incomplete input (<ipython-input-25-a80deb48b923>, line 1)",
          "traceback": [
            "\u001b[0;36m  File \u001b[0;32m\"<ipython-input-25-a80deb48b923>\"\u001b[0;36m, line \u001b[0;32m1\u001b[0m\n\u001b[0;31m    '''\u001b[0m\n\u001b[0m    ^\u001b[0m\n\u001b[0;31mSyntaxError\u001b[0m\u001b[0;31m:\u001b[0m incomplete input\n"
          ]
        }
      ]
    },
    {
      "cell_type": "code",
      "source": [
        "\n",
        "df1 = pd.read_csv(\"/content/extracted_texts_final.csv\")\n",
        "df2 = pd.read_csv(\"/content/Bad Layout Index - Bad Layout Index.csv\")\n",
        "\n",
        "print(\"DataFrame 1:\")\n",
        "print(df1.head())\n",
        "print(\"\\nDataFrame 2:\")\n",
        "print(df2.head())\n"
      ],
      "metadata": {
        "colab": {
          "base_uri": "https://localhost:8080/"
        },
        "id": "sKs53Ej2OAQV",
        "outputId": "7cb1f981-6aa0-4fcd-8ecd-df60d1de964a"
      },
      "execution_count": null,
      "outputs": [
        {
          "output_type": "stream",
          "name": "stdout",
          "text": [
            "DataFrame 1:\n",
            "   Unnamed: 0                                           filename  \\\n",
            "0           0  /content/drive/MyDrive/UMD-Phd /Second Year - ...   \n",
            "1           1  /content/drive/MyDrive/UMD-Phd /Second Year - ...   \n",
            "2           2  /content/drive/MyDrive/UMD-Phd /Second Year - ...   \n",
            "3           3  /content/drive/MyDrive/UMD-Phd /Second Year - ...   \n",
            "4           4  /content/drive/MyDrive/UMD-Phd /Second Year - ...   \n",
            "\n",
            "                                                text  \n",
            "0  A-LYNCHING IN OHIO)\\n\\n \\n\\n‘Tue lynching of R...  \n",
            "1  ‘who was the champion of the measure. |\\nWhile...  \n",
            "2   \\n\\n“Trissansa ote net. rate)\\nDelevan Monday...  \n",
            "3   \\n\\n     \\n\\nhatiniuciated the crowd and ia i...  \n",
            "4  Ap, DUMMY DARKEY::\\nThescaporteasivy thin moru...  \n",
            "\n",
            "DataFrame 2:\n",
            "         New_ID  file_id        date          newspaper_name newspaper_city  \\\n",
            "0  badlayout1.1     2182  1904-03-12         Richmond planet       Richmond   \n",
            "1  badlayout.12     2182  1904-03-12         Richmond planet       Richmond   \n",
            "2  badlayout2.1     2110  1904-08-09  The San Francisco call  San Francisco   \n",
            "3  badlayout2.2     2110  1904-08-09  The San Francisco call  San Francisco   \n",
            "4    badlayout3     2212  1904-07-24      The times dispatch       Richmond   \n",
            "\n",
            "  newspaper_state                                                url  \\\n",
            "0              Va  https://articleextractor.org/pages//2182/vi_cr...   \n",
            "1              Va  https://articleextractor.org/pages//2182/vi_cr...   \n",
            "2             NaN  https://articleextractor.org/pages//2110/curiv...   \n",
            "3             NaN  https://articleextractor.org/pages//2110/curiv...   \n",
            "4              Va  https://articleextractor.org/pages//2212/vi_gu...   \n",
            "\n",
            "           sn  year  month  ...  \\\n",
            "0  sn84025841  1904      3  ...   \n",
            "1  sn84025841  1904      3  ...   \n",
            "2  sn85066387  1904      8  ...   \n",
            "3  sn85066387  1904      8  ...   \n",
            "4  sn85038615  1904      7  ...   \n",
            "\n",
            "                                           newspaper      oclc       issn  \\\n",
            "0  Richmond planet. [volume] (Richmond, Va.) 1883...  10412790  2151-4011   \n",
            "1  Richmond planet. [volume] (Richmond, Va.) 1883...  10412790  2151-4011   \n",
            "2  The San Francisco call. [volume] (San Francisc...  13146227  1941-0719   \n",
            "3  The San Francisco call. [volume] (San Francisc...  13146227  1941-0719   \n",
            "4  The times dispatch. [volume] (Richmond, Va.) 1...  12872288  1941-0700   \n",
            "\n",
            "   no_issues earliest_issue  latest_issue  abbreviation  region      border  \\\n",
            "0       1523     1885-02-21    1930-12-27            VA   South  Not_Border   \n",
            "1       1523     1885-02-21    1930-12-27            VA   South  Not_Border   \n",
            "2       6841     1895-03-05    1913-12-08            CA    West  Not_Border   \n",
            "3       6841     1895-03-05    1913-12-08            CA    West  Not_Border   \n",
            "4       4143     1903-01-27    1914-11-13            VA   South  Not_Border   \n",
            "\n",
            "   newspaper_state_clean  \n",
            "0                     VA  \n",
            "1                     VA  \n",
            "2                     CA  \n",
            "3                     CA  \n",
            "4                     VA  \n",
            "\n",
            "[5 rows x 32 columns]\n"
          ]
        }
      ]
    },
    {
      "cell_type": "code",
      "source": [
        "# Concatenate data frames side by side\n",
        "df_merged = pd.concat([df1, df2], axis=1)\n",
        "print(\"Merged DataFrame:\")\n",
        "print(df_merged.head())\n"
      ],
      "metadata": {
        "colab": {
          "base_uri": "https://localhost:8080/"
        },
        "id": "NE12y9iNOZ-C",
        "outputId": "c03c6283-338c-4d2c-cd01-9bc1bd04af2b"
      },
      "execution_count": null,
      "outputs": [
        {
          "output_type": "stream",
          "name": "stdout",
          "text": [
            "Merged DataFrame:\n",
            "   Unnamed: 0                                           filename  \\\n",
            "0           0  /content/drive/MyDrive/UMD-Phd /Second Year - ...   \n",
            "1           1  /content/drive/MyDrive/UMD-Phd /Second Year - ...   \n",
            "2           2  /content/drive/MyDrive/UMD-Phd /Second Year - ...   \n",
            "3           3  /content/drive/MyDrive/UMD-Phd /Second Year - ...   \n",
            "4           4  /content/drive/MyDrive/UMD-Phd /Second Year - ...   \n",
            "\n",
            "                                                text        New_ID  file_id  \\\n",
            "0  A-LYNCHING IN OHIO)\\n\\n \\n\\n‘Tue lynching of R...  badlayout1.1     2182   \n",
            "1  ‘who was the champion of the measure. |\\nWhile...  badlayout.12     2182   \n",
            "2   \\n\\n“Trissansa ote net. rate)\\nDelevan Monday...  badlayout2.1     2110   \n",
            "3   \\n\\n     \\n\\nhatiniuciated the crowd and ia i...  badlayout2.2     2110   \n",
            "4  Ap, DUMMY DARKEY::\\nThescaporteasivy thin moru...    badlayout3     2212   \n",
            "\n",
            "         date          newspaper_name newspaper_city newspaper_state  \\\n",
            "0  1904-03-12         Richmond planet       Richmond              Va   \n",
            "1  1904-03-12         Richmond planet       Richmond              Va   \n",
            "2  1904-08-09  The San Francisco call  San Francisco             NaN   \n",
            "3  1904-08-09  The San Francisco call  San Francisco             NaN   \n",
            "4  1904-07-24      The times dispatch       Richmond              Va   \n",
            "\n",
            "                                                 url  ...  \\\n",
            "0  https://articleextractor.org/pages//2182/vi_cr...  ...   \n",
            "1  https://articleextractor.org/pages//2182/vi_cr...  ...   \n",
            "2  https://articleextractor.org/pages//2110/curiv...  ...   \n",
            "3  https://articleextractor.org/pages//2110/curiv...  ...   \n",
            "4  https://articleextractor.org/pages//2212/vi_gu...  ...   \n",
            "\n",
            "                                           newspaper      oclc       issn  \\\n",
            "0  Richmond planet. [volume] (Richmond, Va.) 1883...  10412790  2151-4011   \n",
            "1  Richmond planet. [volume] (Richmond, Va.) 1883...  10412790  2151-4011   \n",
            "2  The San Francisco call. [volume] (San Francisc...  13146227  1941-0719   \n",
            "3  The San Francisco call. [volume] (San Francisc...  13146227  1941-0719   \n",
            "4  The times dispatch. [volume] (Richmond, Va.) 1...  12872288  1941-0700   \n",
            "\n",
            "   no_issues earliest_issue latest_issue  abbreviation region      border  \\\n",
            "0       1523     1885-02-21   1930-12-27            VA  South  Not_Border   \n",
            "1       1523     1885-02-21   1930-12-27            VA  South  Not_Border   \n",
            "2       6841     1895-03-05   1913-12-08            CA   West  Not_Border   \n",
            "3       6841     1895-03-05   1913-12-08            CA   West  Not_Border   \n",
            "4       4143     1903-01-27   1914-11-13            VA  South  Not_Border   \n",
            "\n",
            "   newspaper_state_clean  \n",
            "0                     VA  \n",
            "1                     VA  \n",
            "2                     CA  \n",
            "3                     CA  \n",
            "4                     VA  \n",
            "\n",
            "[5 rows x 35 columns]\n"
          ]
        }
      ]
    },
    {
      "cell_type": "code",
      "source": [
        "# Save the merged DataFrame to a new CSV file\n",
        "df_merged.to_csv('merged_final.csv')\n"
      ],
      "metadata": {
        "id": "0id8cl3SOeTw"
      },
      "execution_count": null,
      "outputs": []
    }
  ]
}